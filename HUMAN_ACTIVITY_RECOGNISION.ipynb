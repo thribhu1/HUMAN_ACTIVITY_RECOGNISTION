{
 "cells": [
  {
   "cell_type": "code",
   "execution_count": 239,
   "metadata": {},
   "outputs": [],
   "source": [
    "# Importing Libraries"
   ]
  },
  {
   "cell_type": "code",
   "execution_count": 415,
   "metadata": {},
   "outputs": [],
   "source": [
    "import pandas as pd\n",
    "import numpy as np"
   ]
  },
  {
   "cell_type": "code",
   "execution_count": 416,
   "metadata": {},
   "outputs": [],
   "source": [
    "# Activities are the class labels\n",
    "# It is a 6 class classification\n",
    "ACTIVITIES = {\n",
    "    1: 'WALKING',\n",
    "    2: 'WALKING_UPSTAIRS',\n",
    "    3: 'WALKING_DOWNSTAIRS',\n",
    "   \n",
    "    4: 'SITTING',#1\n",
    "    5: 'STANDING',\n",
    "    6: 'LAYING',\n",
    "}\n",
    "\n",
    "# Utility function to print the confusion matrix\n",
    "def confusion_matrix(Y_true, Y_pred):\n",
    "    Y_true = pd.Series([ACTIVITIES[y] for y in np.argmax(Y_true, axis=1)])\n",
    "    Y_pred = pd.Series([ACTIVITIES[y] for y in np.argmax(Y_pred, axis=1)])\n",
    "\n",
    "    return pd.crosstab(Y_true, Y_pred, rownames=['True'], colnames=['Pred'])"
   ]
  },
  {
   "cell_type": "code",
   "execution_count": 453,
   "metadata": {},
   "outputs": [],
   "source": [
    "import itertools\n",
    "import numpy as np\n",
    "import matplotlib.pyplot as plt\n",
    "from sklearn.metrics import confusion_matrix\n",
    "plt.rcParams[\"font.family\"] = 'DejaVu Sans'\n",
    "\n",
    "def plot_confusion_matrix(cm, classes,\n",
    "                          normalize=False,\n",
    "                          title='Confusion matrix',\n",
    "                          cmap=plt.cm.Blues):\n",
    "    if normalize:\n",
    "        cm = cm.astype('float') / cm.sum(axis=1)[:, np.newaxis]\n",
    "\n",
    "    plt.imshow(cm, interpolation='nearest', cmap=cmap)\n",
    "    plt.title(title)\n",
    "    plt.colorbar()\n",
    "    tick_marks = np.arange(len(classes))\n",
    "    plt.xticks(tick_marks, classes, rotation=90)\n",
    "    plt.yticks(tick_marks, classes)\n",
    "\n",
    "    fmt = '.2f' if normalize else 'd'\n",
    "    thresh = cm.max() / 2.\n",
    "    for i, j in itertools.product(range(cm.shape[0]), range(cm.shape[1])):\n",
    "        plt.text(j, i, format(cm[i, j], fmt),\n",
    "                 horizontalalignment=\"center\",\n",
    "                 color=\"white\" if cm[i, j] > thresh else \"black\")\n",
    "\n",
    "    plt.tight_layout()\n",
    "    plt.ylabel('True label')\n",
    "    plt.xlabel('Predicted label')"
   ]
  },
  {
   "cell_type": "markdown",
   "metadata": {},
   "source": [
    "### Data"
   ]
  },
  {
   "cell_type": "code",
   "execution_count": 454,
   "metadata": {},
   "outputs": [],
   "source": [
    "# Data directory\n",
    "DATADIR = 'UCI_HAR_Dataset'"
   ]
  },
  {
   "cell_type": "code",
   "execution_count": 455,
   "metadata": {},
   "outputs": [],
   "source": [
    "# Raw data signals\n",
    "# Signals are from Accelerometer and Gyroscope\n",
    "# The signals are in x,y,z directions\n",
    "# Sensor signals are filtered to have only body acceleration\n",
    "# excluding the acceleration due to gravity\n",
    "# Triaxial acceleration from the accelerometer is total acceleration\n",
    "SIGNALS = [\n",
    "    \"body_acc_x\",\n",
    "    \"body_acc_y\",\n",
    "    \"body_acc_z\",\n",
    "    \"body_gyro_x\",\n",
    "    \"body_gyro_y\",\n",
    "    \"body_gyro_z\",\n",
    "    \"total_acc_x\",\n",
    "    \"total_acc_y\",\n",
    "    \"total_acc_z\"\n",
    "]"
   ]
  },
  {
   "cell_type": "code",
   "execution_count": 456,
   "metadata": {},
   "outputs": [],
   "source": [
    "# Utility function to read the data from csv file\n",
    "def _read_csv(filename):\n",
    "    return pd.read_csv(filename, delim_whitespace=True, header=None)\n",
    "\n",
    "# Utility function to load the load\n",
    "def load_signals(subset):\n",
    "    signals_data = []\n",
    "\n",
    "    for signal in SIGNALS:\n",
    "        filename = f'UCI_HAR_Dataset/{subset}/Inertial Signals/{signal}_{subset}.txt'\n",
    "        signals_data.append(np.array(_read_csv(filename))) \n",
    "\n",
    "    # Transpose is used to change the dimensionality of the output,\n",
    "    # aggregating the signals by combination of sample/timestep.\n",
    "    # Resultant shape is (7352 train/2947 test samples, 128 timesteps, 9 signals)\n",
    "    return np.transpose(signals_data, (1, 2, 0))"
   ]
  },
  {
   "cell_type": "code",
   "execution_count": 457,
   "metadata": {},
   "outputs": [],
   "source": [
    "\n",
    "def load_y(subset):\n",
    "    \"\"\"\n",
    "    The objective that we are trying to predict is a integer, from 1 to 6,\n",
    "    that represents a human activity. We return a binary representation of \n",
    "    every sample objective as a 6 bits vector using One Hot Encoding\n",
    "    (https://pandas.pydata.org/pandas-docs/stable/generated/pandas.get_dummies.html)\n",
    "    \"\"\"\n",
    "    filename = f'UCI_HAR_Dataset/{subset}/y_{subset}.txt'\n",
    "    y = _read_csv(filename)[0]\n",
    "\n",
    "    return np.array(pd.get_dummies(y))\n",
    "\n",
    "def load_data():\n",
    "    \"\"\"\n",
    "    Obtain the dataset from multiple files.\n",
    "    Returns: X_train, X_test, y_train, y_test\n",
    "    \"\"\"\n",
    "    X_train, X_test = load_signals('train'), load_signals('test')\n",
    "    y_train, y_test = load_y('train'), load_y('test')\n",
    "\n",
    "    return X_train, X_test, y_train, y_test"
   ]
  },
  {
   "cell_type": "code",
   "execution_count": 458,
   "metadata": {},
   "outputs": [],
   "source": [
    "# Importing tensorflow\n",
    "import numpy as np\n",
    "np.random.seed(42)\n",
    "import tensorflow as tf\n",
    "tf.compat.v1.set_random_seed(42)"
   ]
  },
  {
   "cell_type": "code",
   "execution_count": 459,
   "metadata": {},
   "outputs": [],
   "source": [
    "# Configuring a session\n",
    "session_conf = tf.compat.v1.ConfigProto(\n",
    "    intra_op_parallelism_threads=1,\n",
    "    inter_op_parallelism_threads=1\n",
    ")"
   ]
  },
  {
   "cell_type": "code",
   "execution_count": 460,
   "metadata": {},
   "outputs": [],
   "source": [
    "# Import Keras\n",
    "from keras import backend as K\n",
    "sess = tf.compat.v1.Session(graph=tf.compat.v1.get_default_graph(), config=session_conf)\n",
    "tf.compat.v1.keras.backend.set_session(sess)\n"
   ]
  },
  {
   "cell_type": "code",
   "execution_count": 461,
   "metadata": {},
   "outputs": [],
   "source": [
    "# Importing libraries\n",
    "\n",
    "from keras.models import Sequential\n",
    "from keras.layers import LSTM,MaxPooling1D,Flatten,BatchNormalization\n",
    "from keras.layers.core import Dense, Dropout"
   ]
  },
  {
   "cell_type": "code",
   "execution_count": 462,
   "metadata": {},
   "outputs": [],
   "source": [
    "import tensorflow as tf\n",
    "from tensorflow.keras.layers import Conv1D"
   ]
  },
  {
   "cell_type": "code",
   "execution_count": 463,
   "metadata": {},
   "outputs": [],
   "source": [
    "# Initializing parameters\n",
    "epochs = 30\n",
    "batch_size = 16\n",
    "n_hidden = 32"
   ]
  },
  {
   "cell_type": "code",
   "execution_count": 464,
   "metadata": {},
   "outputs": [],
   "source": [
    "# Utility function to count the number of classes\n",
    "def _count_classes(y):\n",
    "    return len(set([tuple(category) for category in y]))"
   ]
  },
  {
   "cell_type": "code",
   "execution_count": 465,
   "metadata": {},
   "outputs": [],
   "source": [
    "# Loading the train and test data\n",
    "X_train, X_test, Y_train, Y_test = load_data()"
   ]
  },
  {
   "cell_type": "code",
   "execution_count": 466,
   "metadata": {},
   "outputs": [
    {
     "name": "stdout",
     "output_type": "stream",
     "text": [
      "128\n",
      "9\n",
      "7352\n"
     ]
    }
   ],
   "source": [
    "timesteps = len(X_train[0])\n",
    "input_dim = len(X_train[0][0])\n",
    "n_classes = _count_classes(Y_train)\n",
    "\n",
    "print(timesteps)\n",
    "print(input_dim)\n",
    "print(len(X_train))"
   ]
  },
  {
   "cell_type": "markdown",
   "metadata": {},
   "source": [
    "- Defining the Architecture of LSTM"
   ]
  },
  {
   "cell_type": "code",
   "execution_count": 214,
   "metadata": {},
   "outputs": [
    {
     "name": "stdout",
     "output_type": "stream",
     "text": [
      "Model: \"sequential_3\"\n",
      "_________________________________________________________________\n",
      "Layer (type)                 Output Shape              Param #   \n",
      "=================================================================\n",
      "lstm_2 (LSTM)                (None, 32)                5376      \n",
      "_________________________________________________________________\n",
      "dropout_10 (Dropout)         (None, 32)                0         \n",
      "_________________________________________________________________\n",
      "dense_8 (Dense)              (None, 6)                 198       \n",
      "=================================================================\n",
      "Total params: 5,574\n",
      "Trainable params: 5,574\n",
      "Non-trainable params: 0\n",
      "_________________________________________________________________\n"
     ]
    }
   ],
   "source": [
    "# Initiliazing the sequential model\n",
    "model = Sequential()\n",
    "# Configuring the parameters\n",
    "model.add(LSTM(n_hidden, input_shape=(timesteps, input_dim)))\n",
    "# Adding a dropout layer\n",
    "model.add(Dropout(0.5))\n",
    "# Adding a dense output layer with sigmoid activation\n",
    "model.add(Dense(n_classes, activation='sigmoid'))\n",
    "model.summary()"
   ]
  },
  {
   "cell_type": "code",
   "execution_count": 31,
   "metadata": {},
   "outputs": [],
   "source": [
    "# Compiling the model\n",
    "model.compile(loss='categorical_crossentropy',\n",
    "              optimizer='rmsprop',\n",
    "              metrics=['accuracy'])"
   ]
  },
  {
   "cell_type": "code",
   "execution_count": 23,
   "metadata": {},
   "outputs": [
    {
     "name": "stdout",
     "output_type": "stream",
     "text": [
      "Train on 7352 samples, validate on 2947 samples\n",
      "Epoch 1/30\n",
      "7352/7352 [==============================] - 92s 13ms/step - loss: 1.3018 - acc: 0.4395 - val_loss: 1.1254 - val_acc: 0.4662\n",
      "Epoch 2/30\n",
      "7352/7352 [==============================] - 94s 13ms/step - loss: 0.9666 - acc: 0.5880 - val_loss: 0.9491 - val_acc: 0.5714\n",
      "Epoch 3/30\n",
      "7352/7352 [==============================] - 97s 13ms/step - loss: 0.7812 - acc: 0.6408 - val_loss: 0.8286 - val_acc: 0.5850\n",
      "Epoch 4/30\n",
      "7352/7352 [==============================] - 95s 13ms/step - loss: 0.6941 - acc: 0.6574 - val_loss: 0.7297 - val_acc: 0.6128\n",
      "Epoch 5/30\n",
      "7352/7352 [==============================] - 92s 13ms/step - loss: 0.6336 - acc: 0.6912 - val_loss: 0.7359 - val_acc: 0.6787\n",
      "Epoch 6/30\n",
      "7352/7352 [==============================] - 94s 13ms/step - loss: 0.5859 - acc: 0.7134 - val_loss: 0.7015 - val_acc: 0.6939\n",
      "Epoch 7/30\n",
      "7352/7352 [==============================] - 95s 13ms/step - loss: 0.5692 - acc: 0.7477 - val_loss: 0.5995 - val_acc: 0.7387\n",
      "Epoch 8/30\n",
      "7352/7352 [==============================] - 96s 13ms/step - loss: 0.4899 - acc: 0.7809 - val_loss: 0.5762 - val_acc: 0.7387\n",
      "Epoch 9/30\n",
      "7352/7352 [==============================] - 90s 12ms/step - loss: 0.4482 - acc: 0.7886 - val_loss: 0.7413 - val_acc: 0.7126\n",
      "Epoch 10/30\n",
      "7352/7352 [==============================] - 90s 12ms/step - loss: 0.4132 - acc: 0.8077 - val_loss: 0.5048 - val_acc: 0.7513\n",
      "Epoch 11/30\n",
      "7352/7352 [==============================] - 89s 12ms/step - loss: 0.3985 - acc: 0.8274 - val_loss: 0.5234 - val_acc: 0.7452\n",
      "Epoch 12/30\n",
      "7352/7352 [==============================] - 91s 12ms/step - loss: 0.3378 - acc: 0.8638 - val_loss: 0.4114 - val_acc: 0.8833\n",
      "Epoch 13/30\n",
      "7352/7352 [==============================] - 91s 12ms/step - loss: 0.2947 - acc: 0.9051 - val_loss: 0.4386 - val_acc: 0.8731\n",
      "Epoch 14/30\n",
      "7352/7352 [==============================] - 90s 12ms/step - loss: 0.2448 - acc: 0.9291 - val_loss: 0.3768 - val_acc: 0.8921\n",
      "Epoch 15/30\n",
      "7352/7352 [==============================] - 91s 12ms/step - loss: 0.2157 - acc: 0.9331 - val_loss: 0.4441 - val_acc: 0.8931\n",
      "Epoch 16/30\n",
      "7352/7352 [==============================] - 90s 12ms/step - loss: 0.2053 - acc: 0.9366 - val_loss: 0.4162 - val_acc: 0.8968\n",
      "Epoch 17/30\n",
      "7352/7352 [==============================] - 89s 12ms/step - loss: 0.2028 - acc: 0.9404 - val_loss: 0.4538 - val_acc: 0.8962\n",
      "Epoch 18/30\n",
      "7352/7352 [==============================] - 93s 13ms/step - loss: 0.1911 - acc: 0.9419 - val_loss: 0.3964 - val_acc: 0.8999\n",
      "Epoch 19/30\n",
      "7352/7352 [==============================] - 96s 13ms/step - loss: 0.1912 - acc: 0.9407 - val_loss: 0.3165 - val_acc: 0.9030\n",
      "Epoch 20/30\n",
      "7352/7352 [==============================] - 96s 13ms/step - loss: 0.1732 - acc: 0.9446 - val_loss: 0.4546 - val_acc: 0.8904\n",
      "Epoch 21/30\n",
      "7352/7352 [==============================] - 94s 13ms/step - loss: 0.1782 - acc: 0.9444 - val_loss: 0.3346 - val_acc: 0.9063\n",
      "Epoch 22/30\n",
      "7352/7352 [==============================] - 95s 13ms/step - loss: 0.1812 - acc: 0.9418 - val_loss: 0.8164 - val_acc: 0.8582\n",
      "Epoch 23/30\n",
      "7352/7352 [==============================] - 95s 13ms/step - loss: 0.1824 - acc: 0.9426 - val_loss: 0.4240 - val_acc: 0.9036\n",
      "Epoch 24/30\n",
      "7352/7352 [==============================] - 94s 13ms/step - loss: 0.1726 - acc: 0.9429 - val_loss: 0.4067 - val_acc: 0.9148\n",
      "Epoch 25/30\n",
      "7352/7352 [==============================] - 96s 13ms/step - loss: 0.1737 - acc: 0.9411 - val_loss: 0.3396 - val_acc: 0.9074\n",
      "Epoch 26/30\n",
      "7352/7352 [==============================] - 96s 13ms/step - loss: 0.1650 - acc: 0.9461 - val_loss: 0.3806 - val_acc: 0.9019\n",
      "Epoch 27/30\n",
      "7352/7352 [==============================] - 89s 12ms/step - loss: 0.1925 - acc: 0.9415 - val_loss: 0.6464 - val_acc: 0.8850\n",
      "Epoch 28/30\n",
      "7352/7352 [==============================] - 91s 12ms/step - loss: 0.1965 - acc: 0.9425 - val_loss: 0.3363 - val_acc: 0.9203\n",
      "Epoch 29/30\n",
      "7352/7352 [==============================] - 92s 12ms/step - loss: 0.1889 - acc: 0.9431 - val_loss: 0.3737 - val_acc: 0.9158\n",
      "Epoch 30/30\n",
      "7352/7352 [==============================] - 95s 13ms/step - loss: 0.1945 - acc: 0.9414 - val_loss: 0.3088 - val_acc: 0.9097\n"
     ]
    },
    {
     "data": {
      "text/plain": [
       "<keras.callbacks.History at 0x29b5ee36a20>"
      ]
     },
     "execution_count": 23,
     "metadata": {},
     "output_type": "execute_result"
    }
   ],
   "source": [
    "# Training the model\n",
    "model.fit(X_train,\n",
    "          Y_train,\n",
    "          batch_size=batch_size,\n",
    "          validation_data=(X_test, Y_test),\n",
    "          epochs=epochs)"
   ]
  },
  {
   "cell_type": "code",
   "execution_count": 24,
   "metadata": {},
   "outputs": [
    {
     "name": "stdout",
     "output_type": "stream",
     "text": [
      "Pred                LAYING  SITTING  STANDING  WALKING  WALKING_DOWNSTAIRS  \\\n",
      "True                                                                         \n",
      "LAYING                 512        0        25        0                   0   \n",
      "SITTING                  3      410        75        0                   0   \n",
      "STANDING                 0       87       445        0                   0   \n",
      "WALKING                  0        0         0      481                   2   \n",
      "WALKING_DOWNSTAIRS       0        0         0        0                 382   \n",
      "WALKING_UPSTAIRS         0        0         0        2                  18   \n",
      "\n",
      "Pred                WALKING_UPSTAIRS  \n",
      "True                                  \n",
      "LAYING                             0  \n",
      "SITTING                            3  \n",
      "STANDING                           0  \n",
      "WALKING                           13  \n",
      "WALKING_DOWNSTAIRS                38  \n",
      "WALKING_UPSTAIRS                 451  \n"
     ]
    }
   ],
   "source": [
    "# Confusion Matrix\n",
    "print(confusion_matrix(Y_test, model.predict(X_test)))"
   ]
  },
  {
   "cell_type": "code",
   "execution_count": 27,
   "metadata": {},
   "outputs": [
    {
     "name": "stdout",
     "output_type": "stream",
     "text": [
      "2947/2947 [==============================] - 4s 2ms/step\n"
     ]
    }
   ],
   "source": [
    "score = model.evaluate(X_test, Y_test)"
   ]
  },
  {
   "cell_type": "code",
   "execution_count": 28,
   "metadata": {},
   "outputs": [
    {
     "data": {
      "text/plain": [
       "[0.3087582236972612, 0.9097387173396675]"
      ]
     },
     "execution_count": 28,
     "metadata": {},
     "output_type": "execute_result"
    }
   ],
   "source": [
    "score"
   ]
  },
  {
   "cell_type": "markdown",
   "metadata": {},
   "source": [
    "- With a simple 2 layer architecture we got 90.09% accuracy and a loss of 0.30\n",
    "- We can further imporve the performace with Hyperparameter tuning"
   ]
  },
  {
   "cell_type": "markdown",
   "metadata": {},
   "source": [
    "#Just changing dropout and layers of Lstm"
   ]
  },
  {
   "cell_type": "code",
   "execution_count": 487,
   "metadata": {},
   "outputs": [],
   "source": [
    "# Initializing parameters\n",
    "tf.keras.backend.clear_session()\n",
    "epochs = 30\n",
    "batch_size = 16\n",
    "n_hidden = 25"
   ]
  },
  {
   "cell_type": "code",
   "execution_count": 233,
   "metadata": {},
   "outputs": [
    {
     "name": "stdout",
     "output_type": "stream",
     "text": [
      "Model: \"sequential\"\n",
      "_________________________________________________________________\n",
      "Layer (type)                 Output Shape              Param #   \n",
      "=================================================================\n",
      "lstm (LSTM)                  (None, 25)                3500      \n",
      "_________________________________________________________________\n",
      "dropout (Dropout)            (None, 25)                0         \n",
      "_________________________________________________________________\n",
      "dense (Dense)                (None, 6)                 156       \n",
      "=================================================================\n",
      "Total params: 3,656\n",
      "Trainable params: 3,656\n",
      "Non-trainable params: 0\n",
      "_________________________________________________________________\n"
     ]
    }
   ],
   "source": [
    "# Initiliazing the sequential model\n",
    "#n_hidden=25,dropout=0.275\n",
    "model = Sequential()\n",
    "# Configuring the parameters\n",
    "model.add(LSTM(n_hidden, input_shape=(timesteps, input_dim)))\n",
    "# Adding a dropout layer\n",
    "model.add(Dropout(0.275))\n",
    "# Adding a dense output layer with sigmoid activation\n",
    "model.add(Dense(n_classes, activation='sigmoid'))\n",
    "model.summary()"
   ]
  },
  {
   "cell_type": "code",
   "execution_count": 28,
   "metadata": {},
   "outputs": [],
   "source": [
    "# Compiling the model\n",
    "model.compile(loss='categorical_crossentropy',\n",
    "              optimizer='rmsprop',\n",
    "              metrics=['accuracy'])"
   ]
  },
  {
   "cell_type": "code",
   "execution_count": 235,
   "metadata": {},
   "outputs": [
    {
     "name": "stdout",
     "output_type": "stream",
     "text": [
      "Epoch 1/30\n",
      "460/460 [==============================] - 6s 13ms/step - loss: 1.3714 - accuracy: 0.4138 - val_loss: 1.2028 - val_accuracy: 0.4496\n",
      "Epoch 2/30\n",
      "460/460 [==============================] - 5s 12ms/step - loss: 1.0548 - accuracy: 0.5487 - val_loss: 1.0137 - val_accuracy: 0.5307\n",
      "Epoch 3/30\n",
      "460/460 [==============================] - 5s 12ms/step - loss: 0.8974 - accuracy: 0.6185 - val_loss: 0.8855 - val_accuracy: 0.5969\n",
      "Epoch 4/30\n",
      "460/460 [==============================] - 5s 12ms/step - loss: 0.7789 - accuracy: 0.6692 - val_loss: 0.7431 - val_accuracy: 0.7000\n",
      "Epoch 5/30\n",
      "460/460 [==============================] - 6s 12ms/step - loss: 0.7090 - accuracy: 0.6876 - val_loss: 0.7831 - val_accuracy: 0.6569\n",
      "Epoch 6/30\n",
      "460/460 [==============================] - 6s 12ms/step - loss: 0.6622 - accuracy: 0.7085 - val_loss: 0.6781 - val_accuracy: 0.7146\n",
      "Epoch 7/30\n",
      "460/460 [==============================] - 6s 12ms/step - loss: 0.5510 - accuracy: 0.7652 - val_loss: 0.5785 - val_accuracy: 0.7401\n",
      "Epoch 8/30\n",
      "460/460 [==============================] - 6s 12ms/step - loss: 0.5171 - accuracy: 0.7971 - val_loss: 0.5253 - val_accuracy: 0.7900\n",
      "Epoch 9/30\n",
      "460/460 [==============================] - 6s 12ms/step - loss: 0.5003 - accuracy: 0.8268 - val_loss: 0.9748 - val_accuracy: 0.7204\n",
      "Epoch 10/30\n",
      "460/460 [==============================] - 6s 12ms/step - loss: 0.4536 - accuracy: 0.8413 - val_loss: 0.5037 - val_accuracy: 0.8354\n",
      "Epoch 11/30\n",
      "460/460 [==============================] - 6s 12ms/step - loss: 0.4245 - accuracy: 0.8557 - val_loss: 0.5016 - val_accuracy: 0.8307\n",
      "Epoch 12/30\n",
      "460/460 [==============================] - 6s 12ms/step - loss: 0.3221 - accuracy: 0.8953 - val_loss: 0.4368 - val_accuracy: 0.8612\n",
      "Epoch 13/30\n",
      "460/460 [==============================] - 6s 12ms/step - loss: 0.2727 - accuracy: 0.9117 - val_loss: 0.3951 - val_accuracy: 0.8646\n",
      "Epoch 14/30\n",
      "460/460 [==============================] - 6s 12ms/step - loss: 0.2446 - accuracy: 0.9261 - val_loss: 0.3467 - val_accuracy: 0.8873\n",
      "Epoch 15/30\n",
      "460/460 [==============================] - 5s 12ms/step - loss: 0.2289 - accuracy: 0.9252 - val_loss: 0.4105 - val_accuracy: 0.8802\n",
      "Epoch 16/30\n",
      "460/460 [==============================] - 6s 12ms/step - loss: 0.2267 - accuracy: 0.9294 - val_loss: 0.3990 - val_accuracy: 0.8758\n",
      "Epoch 17/30\n",
      "460/460 [==============================] - 6s 12ms/step - loss: 0.1924 - accuracy: 0.9382 - val_loss: 0.2874 - val_accuracy: 0.8985\n",
      "Epoch 18/30\n",
      "460/460 [==============================] - 6s 13ms/step - loss: 0.1857 - accuracy: 0.9377 - val_loss: 0.2790 - val_accuracy: 0.8962\n",
      "Epoch 19/30\n",
      "460/460 [==============================] - 6s 13ms/step - loss: 0.1782 - accuracy: 0.9408 - val_loss: 0.2764 - val_accuracy: 0.9101\n",
      "Epoch 20/30\n",
      "460/460 [==============================] - 6s 13ms/step - loss: 0.1810 - accuracy: 0.9411 - val_loss: 0.2496 - val_accuracy: 0.9203\n",
      "Epoch 21/30\n",
      "460/460 [==============================] - 6s 12ms/step - loss: 0.1944 - accuracy: 0.9366 - val_loss: 0.2909 - val_accuracy: 0.9111\n",
      "Epoch 22/30\n",
      "460/460 [==============================] - 6s 12ms/step - loss: 0.1750 - accuracy: 0.9408 - val_loss: 0.2551 - val_accuracy: 0.9063\n",
      "Epoch 23/30\n",
      "460/460 [==============================] - 6s 12ms/step - loss: 0.1514 - accuracy: 0.9476 - val_loss: 0.2570 - val_accuracy: 0.9104\n",
      "Epoch 24/30\n",
      "460/460 [==============================] - 6s 12ms/step - loss: 0.1616 - accuracy: 0.9460 - val_loss: 0.2289 - val_accuracy: 0.9101\n",
      "Epoch 25/30\n",
      "460/460 [==============================] - 6s 12ms/step - loss: 0.1524 - accuracy: 0.9453 - val_loss: 0.2779 - val_accuracy: 0.9111\n",
      "Epoch 26/30\n",
      "460/460 [==============================] - 6s 12ms/step - loss: 0.1591 - accuracy: 0.9453 - val_loss: 0.3397 - val_accuracy: 0.9040\n",
      "Epoch 27/30\n",
      "460/460 [==============================] - 6s 12ms/step - loss: 0.1540 - accuracy: 0.9470 - val_loss: 0.2965 - val_accuracy: 0.9152\n",
      "Epoch 28/30\n",
      "460/460 [==============================] - 5s 12ms/step - loss: 0.1502 - accuracy: 0.9479 - val_loss: 0.2495 - val_accuracy: 0.9226\n",
      "Epoch 29/30\n",
      "460/460 [==============================] - 5s 12ms/step - loss: 0.1451 - accuracy: 0.9480 - val_loss: 0.2523 - val_accuracy: 0.9220\n",
      "Epoch 30/30\n",
      "460/460 [==============================] - 6s 12ms/step - loss: 0.1415 - accuracy: 0.9489 - val_loss: 0.2658 - val_accuracy: 0.9216\n"
     ]
    },
    {
     "data": {
      "text/plain": [
       "<tensorflow.python.keras.callbacks.History at 0x2b9ac13d708>"
      ]
     },
     "execution_count": 235,
     "metadata": {},
     "output_type": "execute_result"
    }
   ],
   "source": [
    "# Training the model\n",
    "model.fit(X_train,\n",
    "          Y_train,\n",
    "          batch_size=batch_size,\n",
    "          validation_data=(X_test, Y_test),\n",
    "          epochs=epochs)"
   ]
  },
  {
   "cell_type": "code",
   "execution_count": 238,
   "metadata": {},
   "outputs": [
    {
     "name": "stdout",
     "output_type": "stream",
     "text": [
      "Pred                LAYING  SITTING  STANDING  WALKING  WALKING_DOWNSTAIRS  \\\n",
      "True                                                                         \n",
      "LAYING                 537        0         0        0                   0   \n",
      "SITTING                  2      400        64        1                   0   \n",
      "STANDING                 0       96       430        6                   0   \n",
      "WALKING                  0        0         0      480                  15   \n",
      "WALKING_DOWNSTAIRS       0        0         0        0                 416   \n",
      "WALKING_UPSTAIRS         0        1         0        9                   8   \n",
      "\n",
      "Pred                WALKING_UPSTAIRS  \n",
      "True                                  \n",
      "LAYING                             0  \n",
      "SITTING                           24  \n",
      "STANDING                           0  \n",
      "WALKING                            1  \n",
      "WALKING_DOWNSTAIRS                 4  \n",
      "WALKING_UPSTAIRS                 453  \n"
     ]
    }
   ],
   "source": [
    "# Confusion Matrix\n",
    "print(confusion_matrix(Y_test, model.predict(X_test)))"
   ]
  },
  {
   "cell_type": "code",
   "execution_count": 236,
   "metadata": {},
   "outputs": [
    {
     "data": {
      "text/plain": [
       "0.22888034582138062"
      ]
     },
     "execution_count": 236,
     "metadata": {},
     "output_type": "execute_result"
    }
   ],
   "source": [
    "min(model.history.history['val_loss'])"
   ]
  },
  {
   "cell_type": "code",
   "execution_count": 237,
   "metadata": {},
   "outputs": [
    {
     "data": {
      "text/plain": [
       "0.922633171081543"
      ]
     },
     "execution_count": 237,
     "metadata": {},
     "output_type": "execute_result"
    }
   ],
   "source": [
    "max(model.history.history['val_accuracy'])"
   ]
  },
  {
   "cell_type": "markdown",
   "metadata": {},
   "source": [
    "#tried single layer 2 with different params"
   ]
  },
  {
   "cell_type": "code",
   "execution_count": 261,
   "metadata": {},
   "outputs": [],
   "source": [
    "# Initializing parameters\n",
    "tf.keras.backend.clear_session()\n",
    "epochs = 30\n",
    "batch_size = 16\n",
    "n_hidden = 25"
   ]
  },
  {
   "cell_type": "code",
   "execution_count": 262,
   "metadata": {},
   "outputs": [
    {
     "name": "stdout",
     "output_type": "stream",
     "text": [
      "Model: \"sequential\"\n",
      "_________________________________________________________________\n",
      "Layer (type)                 Output Shape              Param #   \n",
      "=================================================================\n",
      "lstm (LSTM)                  (None, 25)                3500      \n",
      "_________________________________________________________________\n",
      "dropout (Dropout)            (None, 25)                0         \n",
      "_________________________________________________________________\n",
      "dense (Dense)                (None, 6)                 156       \n",
      "=================================================================\n",
      "Total params: 3,656\n",
      "Trainable params: 3,656\n",
      "Non-trainable params: 0\n",
      "_________________________________________________________________\n"
     ]
    }
   ],
   "source": [
    "# Initiliazing the sequential model\n",
    "#n_hidden=25,dropout=0.275\n",
    "model = Sequential()\n",
    "# Configuring the parameters\n",
    "model.add(LSTM(n_hidden, input_shape=(timesteps, input_dim)))\n",
    "# Adding a dropout layer\n",
    "model.add(Dropout(0.5))\n",
    "\n",
    "# Adding a dense output layer with sigmoid activation\n",
    "model.add(Dense(n_classes, activation='sigmoid'))\n",
    "model.summary()"
   ]
  },
  {
   "cell_type": "code",
   "execution_count": 264,
   "metadata": {},
   "outputs": [
    {
     "name": "stdout",
     "output_type": "stream",
     "text": [
      "Epoch 1/30\n",
      "460/460 [==============================] - 6s 13ms/step - loss: 1.4020 - accuracy: 0.3993 - val_loss: 1.3000 - val_accuracy: 0.4018\n",
      "Epoch 2/30\n",
      "460/460 [==============================] - 5s 12ms/step - loss: 1.1845 - accuracy: 0.4701 - val_loss: 1.2811 - val_accuracy: 0.4432\n",
      "Epoch 3/30\n",
      "460/460 [==============================] - 6s 12ms/step - loss: 1.1132 - accuracy: 0.4859 - val_loss: 1.1187 - val_accuracy: 0.4645\n",
      "Epoch 4/30\n",
      "460/460 [==============================] - 6s 12ms/step - loss: 0.9664 - accuracy: 0.5471 - val_loss: 0.9668 - val_accuracy: 0.5124\n",
      "Epoch 5/30\n",
      "460/460 [==============================] - 5s 12ms/step - loss: 0.8531 - accuracy: 0.6209 - val_loss: 0.9379 - val_accuracy: 0.6064\n",
      "Epoch 6/30\n",
      "460/460 [==============================] - 6s 12ms/step - loss: 0.7776 - accuracy: 0.6658 - val_loss: 0.8319 - val_accuracy: 0.6247\n",
      "Epoch 7/30\n",
      "460/460 [==============================] - 5s 12ms/step - loss: 0.7275 - accuracy: 0.6620 - val_loss: 0.7468 - val_accuracy: 0.6169\n",
      "Epoch 8/30\n",
      "460/460 [==============================] - 6s 12ms/step - loss: 0.6665 - accuracy: 0.6865 - val_loss: 0.7485 - val_accuracy: 0.6983\n",
      "Epoch 9/30\n",
      "460/460 [==============================] - 5s 12ms/step - loss: 0.6453 - accuracy: 0.6922 - val_loss: 0.7320 - val_accuracy: 0.7085\n",
      "Epoch 10/30\n",
      "460/460 [==============================] - 5s 12ms/step - loss: 0.6243 - accuracy: 0.6946 - val_loss: 0.7374 - val_accuracy: 0.6804\n",
      "Epoch 11/30\n",
      "460/460 [==============================] - 6s 12ms/step - loss: 0.6044 - accuracy: 0.7091 - val_loss: 0.7384 - val_accuracy: 0.6885\n",
      "Epoch 12/30\n",
      "460/460 [==============================] - 5s 12ms/step - loss: 0.6513 - accuracy: 0.6906 - val_loss: 0.8060 - val_accuracy: 0.7065\n",
      "Epoch 13/30\n",
      "460/460 [==============================] - 5s 12ms/step - loss: 0.5981 - accuracy: 0.7159 - val_loss: 0.7063 - val_accuracy: 0.7014\n",
      "Epoch 14/30\n",
      "460/460 [==============================] - 5s 12ms/step - loss: 0.5802 - accuracy: 0.7205 - val_loss: 0.7846 - val_accuracy: 0.6573\n",
      "Epoch 15/30\n",
      "460/460 [==============================] - 6s 12ms/step - loss: 0.6000 - accuracy: 0.6999 - val_loss: 0.8223 - val_accuracy: 0.6753\n",
      "Epoch 16/30\n",
      "460/460 [==============================] - 6s 12ms/step - loss: 0.5621 - accuracy: 0.7229 - val_loss: 0.7025 - val_accuracy: 0.6905\n",
      "Epoch 17/30\n",
      "460/460 [==============================] - 6s 12ms/step - loss: 0.5399 - accuracy: 0.7237 - val_loss: 0.6955 - val_accuracy: 0.6698\n",
      "Epoch 18/30\n",
      "460/460 [==============================] - 5s 12ms/step - loss: 0.5268 - accuracy: 0.7363 - val_loss: 0.7190 - val_accuracy: 0.6804\n",
      "Epoch 19/30\n",
      "460/460 [==============================] - 5s 12ms/step - loss: 0.5006 - accuracy: 0.7635 - val_loss: 0.7401 - val_accuracy: 0.7601\n",
      "Epoch 20/30\n",
      "460/460 [==============================] - 5s 12ms/step - loss: 0.4986 - accuracy: 0.7870 - val_loss: 0.7140 - val_accuracy: 0.7764\n",
      "Epoch 21/30\n",
      "460/460 [==============================] - 6s 12ms/step - loss: 0.4513 - accuracy: 0.8158 - val_loss: 0.6508 - val_accuracy: 0.7733\n",
      "Epoch 22/30\n",
      "460/460 [==============================] - 6s 12ms/step - loss: 0.4274 - accuracy: 0.8191 - val_loss: 0.6790 - val_accuracy: 0.7659\n",
      "Epoch 23/30\n",
      "460/460 [==============================] - 6s 12ms/step - loss: 0.4140 - accuracy: 0.8162 - val_loss: 0.6941 - val_accuracy: 0.7625\n",
      "Epoch 24/30\n",
      "460/460 [==============================] - 6s 12ms/step - loss: 0.4025 - accuracy: 0.8239 - val_loss: 0.6430 - val_accuracy: 0.7618\n",
      "Epoch 25/30\n",
      "460/460 [==============================] - 5s 12ms/step - loss: 0.3722 - accuracy: 0.8573 - val_loss: 0.7091 - val_accuracy: 0.8039\n",
      "Epoch 26/30\n",
      "460/460 [==============================] - 6s 12ms/step - loss: 0.3900 - accuracy: 0.8870 - val_loss: 0.7245 - val_accuracy: 0.8314\n",
      "Epoch 27/30\n",
      "460/460 [==============================] - 6s 12ms/step - loss: 0.3071 - accuracy: 0.9082 - val_loss: 0.5824 - val_accuracy: 0.8534\n",
      "Epoch 28/30\n",
      "460/460 [==============================] - 5s 12ms/step - loss: 0.2814 - accuracy: 0.9200 - val_loss: 0.5518 - val_accuracy: 0.8548\n",
      "Epoch 29/30\n",
      "460/460 [==============================] - 6s 12ms/step - loss: 0.2766 - accuracy: 0.9183 - val_loss: 0.5477 - val_accuracy: 0.8561\n",
      "Epoch 30/30\n",
      "460/460 [==============================] - 5s 12ms/step - loss: 0.2615 - accuracy: 0.9240 - val_loss: 0.5650 - val_accuracy: 0.8605\n"
     ]
    },
    {
     "data": {
      "text/plain": [
       "<tensorflow.python.keras.callbacks.History at 0x2ba5041d7c8>"
      ]
     },
     "execution_count": 264,
     "metadata": {},
     "output_type": "execute_result"
    }
   ],
   "source": [
    "# Training the model\n",
    "model.fit(X_train,\n",
    "          Y_train,\n",
    "          batch_size=batch_size,\n",
    "          validation_data=(X_test, Y_test),\n",
    "          epochs=epochs)"
   ]
  },
  {
   "cell_type": "code",
   "execution_count": 255,
   "metadata": {},
   "outputs": [
    {
     "data": {
      "text/plain": [
       "0.9151679873466492"
      ]
     },
     "execution_count": 255,
     "metadata": {},
     "output_type": "execute_result"
    }
   ],
   "source": [
    "max(model.history.history['val_accuracy'])"
   ]
  },
  {
   "cell_type": "code",
   "execution_count": 256,
   "metadata": {},
   "outputs": [
    {
     "data": {
      "text/plain": [
       "0.2559111416339874"
      ]
     },
     "execution_count": 256,
     "metadata": {},
     "output_type": "execute_result"
    }
   ],
   "source": [
    "min(model.history.history['val_loss'])"
   ]
  },
  {
   "cell_type": "code",
   "execution_count": 25,
   "metadata": {},
   "outputs": [
    {
     "data": {
      "text/plain": [
       "6"
      ]
     },
     "execution_count": 25,
     "metadata": {},
     "output_type": "execute_result"
    }
   ],
   "source": [
    "n_classes"
   ]
  },
  {
   "cell_type": "markdown",
   "metadata": {},
   "source": [
    "# Trying multi layer LSTMS"
   ]
  },
  {
   "cell_type": "code",
   "execution_count": 49,
   "metadata": {},
   "outputs": [],
   "source": [
    "# Initializing parameters\n",
    "tf.keras.backend.clear_session()\n",
    "epochs = 30\n",
    "batch_size = 16\n",
    "n_hidden1 = 32\n",
    "n_hidden2 = 25"
   ]
  },
  {
   "cell_type": "code",
   "execution_count": 509,
   "metadata": {},
   "outputs": [
    {
     "name": "stdout",
     "output_type": "stream",
     "text": [
      "Model: \"sequential\"\n",
      "_________________________________________________________________\n",
      "Layer (type)                 Output Shape              Param #   \n",
      "=================================================================\n",
      "lstm (LSTM)                  (None, 128, 32)           5376      \n",
      "_________________________________________________________________\n",
      "dropout (Dropout)            (None, 128, 32)           0         \n",
      "_________________________________________________________________\n",
      "lstm_1 (LSTM)                (None, 25)                5800      \n",
      "_________________________________________________________________\n",
      "dropout_1 (Dropout)          (None, 25)                0         \n",
      "_________________________________________________________________\n",
      "dense (Dense)                (None, 6)                 156       \n",
      "=================================================================\n",
      "Total params: 11,332\n",
      "Trainable params: 11,332\n",
      "Non-trainable params: 0\n",
      "_________________________________________________________________\n"
     ]
    }
   ],
   "source": [
    "# Initializing parameters\n",
    "tf.keras.backend.clear_session()\n",
    "epochs = 30\n",
    "batch_size = 16\n",
    "n_hidden1 = 32\n",
    "n_hidden2 = 25\n",
    "# Initiliazing the sequential model\n",
    "model = Sequential()\n",
    "# Configuring the parameters\n",
    "model.add(LSTM(n_hidden1, return_sequences=True,input_shape=(timesteps, input_dim)))\n",
    "model.add(Dropout(0.5))\n",
    "model.add(LSTM(n_hidden2,  input_shape=(timesteps, input_dim)))\n",
    "\n",
    "# Adding a dropout layer\n",
    "model.add(Dropout(0.275))\n",
    "# Adding a dense output layer with sigmoid activation\n",
    "model.add(Dense(n_classes, activation='sigmoid'))\n",
    "model.summary()"
   ]
  },
  {
   "cell_type": "code",
   "execution_count": 510,
   "metadata": {},
   "outputs": [],
   "source": [
    "import os\n",
    "checkpoint_path = \"training_model_Lstm2/cp.ckpt\"\n",
    "checkpoint_dir = os.path.dirname(checkpoint_path)\n",
    "\n",
    "# Create a callback that saves the model's weights\n",
    "cp_callback = tf.keras.callbacks.ModelCheckpoint(filepath=checkpoint_path,save_best_only=True,save_weights_only=True,verbose=1)\n",
    "\n"
   ]
  },
  {
   "cell_type": "code",
   "execution_count": 511,
   "metadata": {},
   "outputs": [],
   "source": [
    "# Compiling the model\n",
    "model.compile(loss='categorical_crossentropy',\n",
    "              optimizer='rmsprop',\n",
    "              metrics=['accuracy'])"
   ]
  },
  {
   "cell_type": "code",
   "execution_count": 44,
   "metadata": {},
   "outputs": [
    {
     "name": "stdout",
     "output_type": "stream",
     "text": [
      "Epoch 1/10\n",
      "460/460 [==============================] - 11s 23ms/step - loss: 0.1235 - accuracy: 0.9554 - val_loss: 0.5479 - val_accuracy: 0.8999\n",
      "Epoch 2/10\n",
      "460/460 [==============================] - 11s 23ms/step - loss: 0.1349 - accuracy: 0.9538 - val_loss: 0.3872 - val_accuracy: 0.9281\n",
      "Epoch 3/10\n",
      "460/460 [==============================] - 10s 23ms/step - loss: 0.1278 - accuracy: 0.9535 - val_loss: 0.4585 - val_accuracy: 0.9114\n",
      "Epoch 4/10\n",
      "460/460 [==============================] - 10s 23ms/step - loss: 0.1282 - accuracy: 0.9543 - val_loss: 0.3699 - val_accuracy: 0.9125\n",
      "Epoch 5/10\n",
      "460/460 [==============================] - 10s 23ms/step - loss: 0.1211 - accuracy: 0.9542 - val_loss: 0.3578 - val_accuracy: 0.9267\n",
      "Epoch 6/10\n",
      "460/460 [==============================] - 10s 22ms/step - loss: 0.1198 - accuracy: 0.9563 - val_loss: 0.3725 - val_accuracy: 0.9213\n",
      "Epoch 7/10\n",
      "460/460 [==============================] - 10s 22ms/step - loss: 0.1306 - accuracy: 0.9518 - val_loss: 0.4280 - val_accuracy: 0.9206\n",
      "Epoch 8/10\n",
      "460/460 [==============================] - 10s 23ms/step - loss: 0.1295 - accuracy: 0.9546 - val_loss: 0.3652 - val_accuracy: 0.9287\n",
      "Epoch 9/10\n",
      "460/460 [==============================] - 10s 23ms/step - loss: 0.1266 - accuracy: 0.9551 - val_loss: 0.3702 - val_accuracy: 0.9108\n",
      "Epoch 10/10\n",
      "460/460 [==============================] - 10s 22ms/step - loss: 0.1378 - accuracy: 0.9494 - val_loss: 0.4756 - val_accuracy: 0.9057\n"
     ]
    },
    {
     "data": {
      "text/plain": [
       "<tensorflow.python.keras.callbacks.History at 0x223c539bd88>"
      ]
     },
     "execution_count": 44,
     "metadata": {},
     "output_type": "execute_result"
    }
   ],
   "source": [
    "# Training the model\n",
    "model.fit(X_train,\n",
    "          Y_train,\n",
    "          batch_size=batch_size,\n",
    "          validation_data=(X_test, Y_test),\n",
    "          epochs=10)"
   ]
  },
  {
   "cell_type": "code",
   "execution_count": 500,
   "metadata": {},
   "outputs": [
    {
     "data": {
      "text/plain": [
       "<tensorflow.python.training.tracking.util.CheckpointLoadStatus at 0x1fd6e253b08>"
      ]
     },
     "execution_count": 500,
     "metadata": {},
     "output_type": "execute_result"
    }
   ],
   "source": [
    "checkpoint_path = \"training_model_lstm/cp.ckpt\"\n",
    "model_ckpt2 = model\n",
    "model_ckpt2.load_weights(checkpoint_path)"
   ]
  },
  {
   "cell_type": "code",
   "execution_count": 498,
   "metadata": {},
   "outputs": [],
   "source": [
    "#after changing many dropouts andd no of hidden layer\n",
    "#for the first model we got 0.9287 as highest accuracy"
   ]
  },
  {
   "cell_type": "markdown",
   "metadata": {},
   "source": [
    "# DIVIDE and CONQUER APPROch"
   ]
  },
  {
   "cell_type": "code",
   "execution_count": null,
   "metadata": {},
   "outputs": [],
   "source": [
    "#https://www.researchgate.net/publication/324224939_Divide_and_Conquer-Based_1D_CNN_Human_Activity_Recognition_Using_Test_Data_Sharpening"
   ]
  },
  {
   "cell_type": "markdown",
   "metadata": {},
   "source": [
    "#dividing static and dynamic "
   ]
  },
  {
   "cell_type": "code",
   "execution_count": 14,
   "metadata": {},
   "outputs": [],
   "source": [
    "def load_y2(subset):\n",
    "    \"\"\"\n",
    "    The objective that we are trying to predict is a integer, from 1 to 6,\n",
    "    that represents a human activity. We return a binary representation of \n",
    "    every sample objective as a 6 bits vector using One Hot Encoding\n",
    "    (https://pandas.pydata.org/pandas-docs/stable/generated/pandas.get_dummies.html)\n",
    "    \"\"\"\n",
    "    filename = f'UCI_HAR_Dataset/{subset}/y_{subset}.txt'\n",
    "    y = _read_csv(filename)[0]\n",
    "    y[y<=3] = 1\n",
    "    y[y>3] = 0\n",
    "\n",
    "    return np.array(pd.get_dummies(y))"
   ]
  },
  {
   "cell_type": "code",
   "execution_count": null,
   "metadata": {},
   "outputs": [],
   "source": []
  },
  {
   "cell_type": "code",
   "execution_count": 15,
   "metadata": {},
   "outputs": [
    {
     "data": {
      "text/plain": [
       "array([5, 4, 6, 1, 3, 2], dtype=int64)"
      ]
     },
     "execution_count": 15,
     "metadata": {},
     "output_type": "execute_result"
    }
   ],
   "source": [
    "filename = f'UCI_HAR_Dataset/test/y_test.txt'\n",
    "y = _read_csv(filename)[0]\n",
    "y.unique()"
   ]
  },
  {
   "cell_type": "code",
   "execution_count": 16,
   "metadata": {},
   "outputs": [],
   "source": [
    "# {\n",
    " #   1: 'WALKING',\n",
    "  #  2: 'WALKING_UPSTAIRS',\n",
    "   # 3: 'WALKING_DOWNSTAIRS',\n",
    "    #4: 'SITTING',\n",
    "    #5: 'STANDING',\n",
    "    #6: 'LAYING',\n",
    "#}"
   ]
  },
  {
   "cell_type": "code",
   "execution_count": 17,
   "metadata": {},
   "outputs": [],
   "source": [
    "def load_data():\n",
    "    \"\"\"\n",
    "    Obtain the dataset from multiple files.\n",
    "    Returns: X_train, X_test, y_train, y_test\n",
    "    \"\"\"\n",
    "    X_train, X_test = load_signals('train'), load_signals('test')\n",
    "    y_train, y_test = load_y2('train'), load_y2('test')\n",
    "\n",
    "    return X_train, X_test, y_train, y_test"
   ]
  },
  {
   "cell_type": "code",
   "execution_count": 18,
   "metadata": {},
   "outputs": [],
   "source": [
    "# Loading the train and test data\n",
    "X_train, X_test, Y_train, Y_test = load_data()"
   ]
  },
  {
   "cell_type": "code",
   "execution_count": 25,
   "metadata": {},
   "outputs": [
    {
     "name": "stdout",
     "output_type": "stream",
     "text": [
      "128\n",
      "9\n",
      "7352\n"
     ]
    }
   ],
   "source": [
    "timesteps = len(X_train[0])\n",
    "input_dim = len(X_train[0][0])\n",
    "n_classes = _count_classes(Y_train)\n",
    "\n",
    "print(timesteps)\n",
    "print(input_dim)\n",
    "print(len(X_train))"
   ]
  },
  {
   "cell_type": "code",
   "execution_count": 26,
   "metadata": {},
   "outputs": [
    {
     "data": {
      "text/plain": [
       "(7352, 2)"
      ]
     },
     "execution_count": 26,
     "metadata": {},
     "output_type": "execute_result"
    }
   ],
   "source": [
    "Y_train.shape"
   ]
  },
  {
   "cell_type": "code",
   "execution_count": 313,
   "metadata": {},
   "outputs": [
    {
     "name": "stdout",
     "output_type": "stream",
     "text": [
      "Model: \"sequential\"\n",
      "_________________________________________________________________\n",
      "Layer (type)                 Output Shape              Param #   \n",
      "=================================================================\n",
      "lstm (LSTM)                  (None, 128, 25)           3500      \n",
      "_________________________________________________________________\n",
      "dropout (Dropout)            (None, 128, 25)           0         \n",
      "_________________________________________________________________\n",
      "lstm_1 (LSTM)                (None, 12)                1824      \n",
      "_________________________________________________________________\n",
      "dropout_1 (Dropout)          (None, 12)                0         \n",
      "_________________________________________________________________\n",
      "dense (Dense)                (None, 6)                 78        \n",
      "=================================================================\n",
      "Total params: 5,402\n",
      "Trainable params: 5,402\n",
      "Non-trainable params: 0\n",
      "_________________________________________________________________\n"
     ]
    }
   ],
   "source": [
    "tf.keras.backend.clear_session()\n",
    "epochs = 30\n",
    "batch_size = 16\n",
    "n_hidden1= 25\n",
    "n_hidden2 = 12\n",
    "# Initiliazing the sequential model\n",
    "model = Sequential()\n",
    "# Configuring the parameters\n",
    "#model.add(Conv1D(filters=32, kernel_size=3, activation='relu',kernel_initializer='he_uniform'))\n",
    "\n",
    "model.add(LSTM(n_hidden1, input_shape=(timesteps, input_dim),return_sequences=True))\n",
    "# Adding a dropout layer\n",
    "model.add(Dropout(0.375))\n",
    "model.add(LSTM(n_hidden2, input_shape=(timesteps, input_dim)))\n",
    "# Adding a dropout layer\n",
    "model.add(Dropout(0.375))\n",
    "# Adding a dense output layer with sigmoid activation\n",
    "model.add(Dense(n_classes, activation='sigmoid'))\n",
    "model.summary()"
   ]
  },
  {
   "cell_type": "code",
   "execution_count": 29,
   "metadata": {},
   "outputs": [],
   "source": [
    "import os\n",
    "checkpoint_path = \"training_model_2class/cp.ckpt\"\n",
    "checkpoint_dir = os.path.dirname(checkpoint_path)\n",
    "\n",
    "# Create a callback that saves the model's weights\n",
    "cp_callback = tf.keras.callbacks.ModelCheckpoint(filepath=checkpoint_path,save_best_only=True,save_weights_only=True,verbose=1)\n",
    "\n",
    "#checkpoint_path = \"training_model_2class/cp.ckpt\"\n",
    "#model_ckpt2 = model2\n",
    "#model_ckpt2.load_weights(checkpoint_path)"
   ]
  },
  {
   "cell_type": "code",
   "execution_count": 30,
   "metadata": {},
   "outputs": [
    {
     "name": "stdout",
     "output_type": "stream",
     "text": [
      "Epoch 1/10\n",
      "460/460 [==============================] - ETA: 0s - loss: 0.2574 - accuracy: 0.9144\n",
      "Epoch 00001: val_loss improved from inf to 0.10749, saving model to training_model_2class/cp.ckpt\n",
      "460/460 [==============================] - 10s 21ms/step - loss: 0.2574 - accuracy: 0.9144 - val_loss: 0.1075 - val_accuracy: 0.9691\n",
      "Epoch 2/10\n",
      "457/460 [============================>.] - ETA: 0s - loss: 0.0513 - accuracy: 0.9902 ETA: 0s - loss: 0.0498 - accu\n",
      "Epoch 00002: val_loss improved from 0.10749 to 0.07481, saving model to training_model_2class/cp.ckpt\n",
      "460/460 [==============================] - 9s 19ms/step - loss: 0.0511 - accuracy: 0.9902 - val_loss: 0.0748 - val_accuracy: 0.9793\n",
      "Epoch 3/10\n",
      "458/460 [============================>.] - ETA: 0s - loss: 0.0667 - accuracy: 0.9858 ETA: 0s -\n",
      "Epoch 00003: val_loss did not improve from 0.07481\n",
      "460/460 [==============================] - 9s 19ms/step - loss: 0.0666 - accuracy: 0.9859 - val_loss: 0.0811 - val_accuracy: 0.9796\n",
      "Epoch 4/10\n",
      "460/460 [==============================] - ETA: 0s - loss: 0.0366 - accuracy: 0.9939\n",
      "Epoch 00004: val_loss improved from 0.07481 to 0.02549, saving model to training_model_2class/cp.ckpt\n",
      "460/460 [==============================] - 9s 19ms/step - loss: 0.0366 - accuracy: 0.9939 - val_loss: 0.0255 - val_accuracy: 0.9942\n",
      "Epoch 5/10\n",
      "460/460 [==============================] - ETA: 0s - loss: 0.0478 - accuracy: 0.9901\n",
      "Epoch 00005: val_loss did not improve from 0.02549\n",
      "460/460 [==============================] - 9s 19ms/step - loss: 0.0478 - accuracy: 0.9901 - val_loss: 0.0256 - val_accuracy: 0.9912\n",
      "Epoch 6/10\n",
      "458/460 [============================>.] - ETA: 0s - loss: 0.0178 - accuracy: 0.9971\n",
      "Epoch 00006: val_loss improved from 0.02549 to 0.00969, saving model to training_model_2class/cp.ckpt\n",
      "460/460 [==============================] - 9s 19ms/step - loss: 0.0177 - accuracy: 0.9971 - val_loss: 0.0097 - val_accuracy: 0.9980\n",
      "Epoch 7/10\n",
      "458/460 [============================>.] - ETA: 0s - loss: 0.0091 - accuracy: 0.9989\n",
      "Epoch 00007: val_loss did not improve from 0.00969\n",
      "460/460 [==============================] - 9s 19ms/step - loss: 0.0091 - accuracy: 0.9989 - val_loss: 0.0103 - val_accuracy: 0.9980\n",
      "Epoch 8/10\n",
      "460/460 [==============================] - ETA: 0s - loss: 0.0072 - accuracy: 0.9989\n",
      "Epoch 00008: val_loss improved from 0.00969 to 0.00634, saving model to training_model_2class/cp.ckpt\n",
      "460/460 [==============================] - 9s 19ms/step - loss: 0.0072 - accuracy: 0.9989 - val_loss: 0.0063 - val_accuracy: 0.9983\n",
      "Epoch 9/10\n",
      "459/460 [============================>.] - ETA: 0s - loss: 0.0041 - accuracy: 0.9996\n",
      "Epoch 00009: val_loss did not improve from 0.00634\n",
      "460/460 [==============================] - 9s 19ms/step - loss: 0.0041 - accuracy: 0.9996 - val_loss: 0.0101 - val_accuracy: 0.9980\n",
      "Epoch 10/10\n",
      "457/460 [============================>.] - ETA: 0s - loss: 0.0207 - accuracy: 0.9964\n",
      "Epoch 00010: val_loss did not improve from 0.00634\n",
      "460/460 [==============================] - 9s 19ms/step - loss: 0.0206 - accuracy: 0.9965 - val_loss: 0.0089 - val_accuracy: 0.9976\n"
     ]
    },
    {
     "data": {
      "text/plain": [
       "<tensorflow.python.keras.callbacks.History at 0x2c715dce088>"
      ]
     },
     "execution_count": 30,
     "metadata": {},
     "output_type": "execute_result"
    }
   ],
   "source": [
    "# Compiling the model\n",
    "model.compile(loss='binary_crossentropy',\n",
    "              optimizer='adam',metrics=['accuracy'])\n",
    "# Training the model\n",
    "model.fit(X_train,\n",
    "          Y_train,\n",
    "          batch_size=batch_size,\n",
    "          validation_data=(X_test, Y_test),\n",
    "          epochs=10,callbacks=[cp_callback])"
   ]
  },
  {
   "cell_type": "code",
   "execution_count": 31,
   "metadata": {},
   "outputs": [
    {
     "name": "stdout",
     "output_type": "stream",
     "text": [
      "Epoch 1/5\n",
      "457/460 [============================>.] - ETA: 0s - loss: 0.0109 - accuracy: 0.9979\n",
      "Epoch 00001: val_loss did not improve from 0.00634\n",
      "460/460 [==============================] - 9s 19ms/step - loss: 0.0109 - accuracy: 0.9980 - val_loss: 0.0104 - val_accuracy: 0.9980\n",
      "Epoch 2/5\n",
      "458/460 [============================>.] - ETA: 0s - loss: 0.0042 - accuracy: 0.9995\n",
      "Epoch 00002: val_loss improved from 0.00634 to 0.00471, saving model to training_model_2class/cp.ckpt\n",
      "460/460 [==============================] - 9s 19ms/step - loss: 0.0042 - accuracy: 0.9995 - val_loss: 0.0047 - val_accuracy: 0.9990\n",
      "Epoch 3/5\n",
      "460/460 [==============================] - ETA: 0s - loss: 0.0053 - accuracy: 0.9992\n",
      "Epoch 00003: val_loss did not improve from 0.00471\n",
      "460/460 [==============================] - 9s 19ms/step - loss: 0.0053 - accuracy: 0.9992 - val_loss: 0.0071 - val_accuracy: 0.9983\n",
      "Epoch 4/5\n",
      "458/460 [============================>.] - ETA: 0s - loss: 0.0017 - accuracy: 0.9999\n",
      "Epoch 00004: val_loss did not improve from 0.00471\n",
      "460/460 [==============================] - 9s 19ms/step - loss: 0.0017 - accuracy: 0.9999 - val_loss: 0.0089 - val_accuracy: 0.9980\n",
      "Epoch 5/5\n",
      "459/460 [============================>.] - ETA: 0s - loss: 0.0037 - accuracy: 0.9997\n",
      "Epoch 00005: val_loss improved from 0.00471 to 0.00441, saving model to training_model_2class/cp.ckpt\n",
      "460/460 [==============================] - 9s 20ms/step - loss: 0.0037 - accuracy: 0.9997 - val_loss: 0.0044 - val_accuracy: 0.9990\n"
     ]
    },
    {
     "data": {
      "text/plain": [
       "<tensorflow.python.keras.callbacks.History at 0x2c777128e08>"
      ]
     },
     "execution_count": 31,
     "metadata": {},
     "output_type": "execute_result"
    }
   ],
   "source": [
    "model.fit(X_train,\n",
    "          Y_train,\n",
    "          batch_size=batch_size,\n",
    "          validation_data=(X_test, Y_test),\n",
    "          epochs=5,callbacks=[cp_callback])"
   ]
  },
  {
   "cell_type": "code",
   "execution_count": 33,
   "metadata": {},
   "outputs": [
    {
     "name": "stdout",
     "output_type": "stream",
     "text": [
      "Epoch 1/5\n",
      "460/460 [==============================] - ETA: 0s - loss: 9.3469e-04 - accuracy: 1.0000\n",
      "Epoch 00001: val_loss did not improve from 0.00441\n",
      "460/460 [==============================] - 9s 19ms/step - loss: 9.3469e-04 - accuracy: 1.0000 - val_loss: 0.0063 - val_accuracy: 0.9990\n",
      "Epoch 2/5\n",
      "458/460 [============================>.] - ETA: 0s - loss: 6.1602e-04 - accuracy: 1.0000\n",
      "Epoch 00002: val_loss did not improve from 0.00441\n",
      "460/460 [==============================] - 9s 19ms/step - loss: 6.1579e-04 - accuracy: 1.0000 - val_loss: 0.0125 - val_accuracy: 0.9976\n",
      "Epoch 3/5\n",
      "458/460 [============================>.] - ETA: 0s - loss: 6.6885e-04 - accuracy: 1.0000\n",
      "Epoch 00003: val_loss improved from 0.00441 to 0.00180, saving model to training_model_2class/cp.ckpt\n",
      "460/460 [==============================] - 9s 19ms/step - loss: 6.6920e-04 - accuracy: 1.0000 - val_loss: 0.0018 - val_accuracy: 0.9993\n",
      "Epoch 4/5\n",
      "457/460 [============================>.] - ETA: 0s - loss: 4.7915e-04 - accuracy: 1.0000\n",
      "Epoch 00004: val_loss did not improve from 0.00180\n",
      "460/460 [==============================] - 9s 19ms/step - loss: 4.7957e-04 - accuracy: 1.0000 - val_loss: 0.0025 - val_accuracy: 0.9993\n",
      "Epoch 5/5\n",
      "460/460 [==============================] - ETA: 0s - loss: 3.9312e-04 - accuracy: 1.0000\n",
      "Epoch 00005: val_loss did not improve from 0.00180\n",
      "460/460 [==============================] - 9s 20ms/step - loss: 3.9312e-04 - accuracy: 1.0000 - val_loss: 0.0032 - val_accuracy: 0.9997\n"
     ]
    },
    {
     "data": {
      "text/plain": [
       "<tensorflow.python.keras.callbacks.History at 0x2c72c86ee48>"
      ]
     },
     "execution_count": 33,
     "metadata": {},
     "output_type": "execute_result"
    }
   ],
   "source": [
    "model.fit(X_train,\n",
    "          Y_train,\n",
    "          batch_size=batch_size,\n",
    "          validation_data=(X_test, Y_test),\n",
    "          epochs=5,callbacks=[cp_callback])"
   ]
  },
  {
   "cell_type": "code",
   "execution_count": 34,
   "metadata": {},
   "outputs": [
    {
     "data": {
      "text/plain": [
       "0.9996606707572937"
      ]
     },
     "execution_count": 34,
     "metadata": {},
     "output_type": "execute_result"
    }
   ],
   "source": [
    "max(model.history.history['val_accuracy'])"
   ]
  },
  {
   "cell_type": "code",
   "execution_count": 35,
   "metadata": {},
   "outputs": [
    {
     "data": {
      "text/plain": [
       "0.0017972142668440938"
      ]
     },
     "execution_count": 35,
     "metadata": {},
     "output_type": "execute_result"
    }
   ],
   "source": [
    "min(model.history.history['val_loss'])"
   ]
  },
  {
   "cell_type": "code",
   "execution_count": 154,
   "metadata": {},
   "outputs": [
    {
     "data": {
      "text/plain": [
       "<tensorflow.python.training.tracking.util.CheckpointLoadStatus at 0x1fd1ac11488>"
      ]
     },
     "execution_count": 154,
     "metadata": {},
     "output_type": "execute_result"
    }
   ],
   "source": [
    "checkpoint_path = \"training_model_2class/cp.ckpt\"\n",
    "model_1_2class = model1\n",
    "model_1_2class.load_weights(checkpoint_path)"
   ]
  },
  {
   "cell_type": "code",
   "execution_count": 155,
   "metadata": {},
   "outputs": [],
   "source": [
    "model_1_2class.save('model_1_2class.h5')"
   ]
  },
  {
   "cell_type": "markdown",
   "metadata": {},
   "source": [
    "#Here We have classified our model almost idealy to static and Dynamic with an accuracy of 99.96%\n",
    "#we used only two Lstm to achieve this high accuracy\n",
    "#and saved the best minal loos and saved as model 1 for future use.\n"
   ]
  },
  {
   "cell_type": "markdown",
   "metadata": {},
   "source": [
    "# classifying static activities"
   ]
  },
  {
   "cell_type": "code",
   "execution_count": 353,
   "metadata": {},
   "outputs": [],
   "source": [
    "#{\n",
    "#    4: 'SITTING',\n",
    "#    5: 'STANDING',\n",
    "#    6: 'LAYING',\n",
    "#}"
   ]
  },
  {
   "cell_type": "code",
   "execution_count": 354,
   "metadata": {},
   "outputs": [],
   "source": [
    "filename = f'UCI_HAR_Dataset/test/y_test.txt'\n",
    "y = _read_csv(filename)[0]"
   ]
  },
  {
   "cell_type": "code",
   "execution_count": 355,
   "metadata": {},
   "outputs": [],
   "source": [
    "def load_stat(subset):\n",
    "    \"\"\"\n",
    "    The objective that we are trying to predict is a integer, from 1 to 6,\n",
    "    that represents a human activity. We return a binary representation of \n",
    "    every sample objective as a 6 bits vector using One Hot Encoding\n",
    "    (https://pandas.pydata.org/pandas-docs/stable/generated/pandas.get_dummies.html)\n",
    "    \"\"\"\n",
    "    filename = f'UCI_HAR_Dataset/{subset}/y_{subset}.txt'\n",
    "    y = _read_csv(filename)[0]\n",
    "    y_ind=y>3\n",
    "    Y=y[y_ind]\n",
    "\n",
    "    return np.array(pd.get_dummies(Y)),y_ind"
   ]
  },
  {
   "cell_type": "code",
   "execution_count": 356,
   "metadata": {},
   "outputs": [],
   "source": [
    "def load_data():\n",
    "    \"\"\"\n",
    "    Obtain the dataset from multiple files.\n",
    "    Returns: X_train, X_test, y_train, y_test\n",
    "    \"\"\"\n",
    "    X_train, X_test = load_signals('train'), load_signals('test')\n",
    "    y_train,xtr_stat=load_stat('train')\n",
    "    y_test,xte_stat=load_stat('test')\n",
    "    X_train_st=X_train[xtr_stat]\n",
    "    X_test_st=X_test[xte_stat]\n",
    "\n",
    "    return X_train_st, X_test_st, y_train, y_test"
   ]
  },
  {
   "cell_type": "code",
   "execution_count": 357,
   "metadata": {},
   "outputs": [],
   "source": [
    "# Loading the train and test data\n",
    "\n",
    "X_train, X_test, Y_train, Y_test = load_data()"
   ]
  },
  {
   "cell_type": "code",
   "execution_count": 358,
   "metadata": {},
   "outputs": [
    {
     "name": "stdout",
     "output_type": "stream",
     "text": [
      "(4067, 128, 9) (1560, 128, 9) (4067, 3) (1560, 3)\n"
     ]
    }
   ],
   "source": [
    "print(X_train.shape,X_test.shape,Y_train.shape,Y_test.shape)"
   ]
  },
  {
   "cell_type": "code",
   "execution_count": 359,
   "metadata": {},
   "outputs": [
    {
     "name": "stdout",
     "output_type": "stream",
     "text": [
      "128\n",
      "9\n",
      "4067\n",
      "3\n"
     ]
    }
   ],
   "source": [
    "timesteps = len(X_train[0])\n",
    "input_dim = len(X_train[0][0])\n",
    "n_classes = _count_classes(Y_train)\n",
    "\n",
    "print(timesteps)\n",
    "print(input_dim)\n",
    "print(len(X_train))\n",
    "print(n_classes)"
   ]
  },
  {
   "cell_type": "code",
   "execution_count": 406,
   "metadata": {},
   "outputs": [
    {
     "name": "stdout",
     "output_type": "stream",
     "text": [
      "Model: \"sequential\"\n",
      "_________________________________________________________________\n",
      "Layer (type)                 Output Shape              Param #   \n",
      "=================================================================\n",
      "lstm (LSTM)                  (None, 128, 100)          44000     \n",
      "_________________________________________________________________\n",
      "dropout (Dropout)            (None, 128, 100)          0         \n",
      "_________________________________________________________________\n",
      "conv1d (Conv1D)              (None, 128, 64)           19264     \n",
      "_________________________________________________________________\n",
      "dropout_1 (Dropout)          (None, 128, 64)           0         \n",
      "_________________________________________________________________\n",
      "conv1d_1 (Conv1D)            (None, 128, 32)           6176      \n",
      "_________________________________________________________________\n",
      "dropout_2 (Dropout)          (None, 128, 32)           0         \n",
      "_________________________________________________________________\n",
      "dense (Dense)                (None, 128, 25)           825       \n",
      "_________________________________________________________________\n",
      "dropout_3 (Dropout)          (None, 128, 25)           0         \n",
      "_________________________________________________________________\n",
      "max_pooling1d (MaxPooling1D) (None, 127, 25)           0         \n",
      "_________________________________________________________________\n",
      "flatten (Flatten)            (None, 3175)              0         \n",
      "_________________________________________________________________\n",
      "dense_1 (Dense)              (None, 3)                 9528      \n",
      "=================================================================\n",
      "Total params: 79,793\n",
      "Trainable params: 79,793\n",
      "Non-trainable params: 0\n",
      "_________________________________________________________________\n"
     ]
    }
   ],
   "source": [
    "tf.keras.backend.clear_session()\n",
    "n_hidden1=100\n",
    "\n",
    "model_2 = Sequential()\n",
    "model_2.add(LSTM(n_hidden1,return_sequences=True, input_shape=(timesteps, input_dim)))\n",
    "model_2.add(Dropout(0.65))\n",
    "model_2.add(Conv1D(filters=64, kernel_size=3,padding='same', activation='relu',kernel_initializer='he_uniform'))\n",
    "model_2.add(Dropout(0.575))\n",
    "model_2.add(Conv1D(filters=32, kernel_size=3,padding='same', activation='relu',kernel_initializer='he_uniform'))\n",
    "model_2.add(Dropout(0.5))\n",
    "\n",
    "model_2.add(Dense(25, activation='relu',kernel_initializer='he_uniform'))\n",
    "model_2.add(Dropout(0.275))\n",
    "model_2.add(MaxPooling1D(pool_size=2,strides=1))\n",
    "model_2.add(Flatten())\n",
    "#model_2.add(Dense(32, activation='relu',kernel_initializer='he_uniform'))\n",
    "#model_2.add(BatchNormalization()) \n",
    "#model_2.add(Dropout(0.6))\n",
    "\n",
    "model_2.add(Dense(3, activation='softmax'))\n",
    "\n",
    "model_2.summary()"
   ]
  },
  {
   "cell_type": "code",
   "execution_count": 407,
   "metadata": {},
   "outputs": [],
   "source": [
    "import os\n",
    "checkpoint_path = \"training_model2_stclass/cp.ckpt\"\n",
    "checkpoint_dir = os.path.dirname(checkpoint_path)\n",
    "\n",
    "# Create a callback that saves the model's weights\n",
    "cp_callback = tf.keras.callbacks.ModelCheckpoint(filepath=checkpoint_path,save_best_only=True,save_weights_only=True,verbose=1)\n",
    "\n",
    "#checkpoint_path = \"training_model2_stclass/cp.ckpt\"\n",
    "#model_ckpt2 = model2\n",
    "#model_ckpt2.load_weights(checkpoint_path)"
   ]
  },
  {
   "cell_type": "code",
   "execution_count": 408,
   "metadata": {},
   "outputs": [
    {
     "name": "stdout",
     "output_type": "stream",
     "text": [
      "Epoch 1/10\n",
      "255/255 [==============================] - ETA: 0s - loss: 0.3732 - accuracy: 0.8264\n",
      "Epoch 00001: val_loss improved from inf to 0.49978, saving model to training_model2_stclass/cp.ckpt\n",
      "255/255 [==============================] - 7s 26ms/step - loss: 0.3732 - accuracy: 0.8264 - val_loss: 0.4998 - val_accuracy: 0.8654\n",
      "Epoch 2/10\n",
      "255/255 [==============================] - ETA: 0s - loss: 0.2473 - accuracy: 0.9012\n",
      "Epoch 00002: val_loss did not improve from 0.49978\n",
      "255/255 [==============================] - 6s 25ms/step - loss: 0.2473 - accuracy: 0.9012 - val_loss: 0.7465 - val_accuracy: 0.8250\n",
      "Epoch 3/10\n",
      "254/255 [============================>.] - ETA: 0s - loss: 0.2330 - accuracy: 0.9028\n",
      "Epoch 00003: val_loss did not improve from 0.49978\n",
      "255/255 [==============================] - 6s 25ms/step - loss: 0.2328 - accuracy: 0.9029 - val_loss: 0.6498 - val_accuracy: 0.8590\n",
      "Epoch 4/10\n",
      "253/255 [============================>.] - ETA: 0s - loss: 0.2154 - accuracy: 0.9106\n",
      "Epoch 00004: val_loss improved from 0.49978 to 0.34453, saving model to training_model2_stclass/cp.ckpt\n",
      "255/255 [==============================] - 6s 25ms/step - loss: 0.2159 - accuracy: 0.9103 - val_loss: 0.3445 - val_accuracy: 0.8231\n",
      "Epoch 5/10\n",
      "253/255 [============================>.] - ETA: 0s - loss: 0.2147 - accuracy: 0.9108\n",
      "Epoch 00005: val_loss improved from 0.34453 to 0.28377, saving model to training_model2_stclass/cp.ckpt\n",
      "255/255 [==============================] - 7s 26ms/step - loss: 0.2148 - accuracy: 0.9107 - val_loss: 0.2838 - val_accuracy: 0.8910\n",
      "Epoch 6/10\n",
      "253/255 [============================>.] - ETA: 0s - loss: 0.2006 - accuracy: 0.9098\n",
      "Epoch 00006: val_loss improved from 0.28377 to 0.27929, saving model to training_model2_stclass/cp.ckpt\n",
      "255/255 [==============================] - 6s 25ms/step - loss: 0.2001 - accuracy: 0.9103 - val_loss: 0.2793 - val_accuracy: 0.8878\n",
      "Epoch 7/10\n",
      "254/255 [============================>.] - ETA: 0s - loss: 0.2096 - accuracy: 0.9178\n",
      "Epoch 00007: val_loss did not improve from 0.27929\n",
      "255/255 [==============================] - 7s 26ms/step - loss: 0.2095 - accuracy: 0.9179 - val_loss: 0.2890 - val_accuracy: 0.9154\n",
      "Epoch 8/10\n",
      "254/255 [============================>.] - ETA: 0s - loss: 0.1984 - accuracy: 0.9240\n",
      "Epoch 00008: val_loss improved from 0.27929 to 0.25852, saving model to training_model2_stclass/cp.ckpt\n",
      "255/255 [==============================] - 7s 27ms/step - loss: 0.1982 - accuracy: 0.9240 - val_loss: 0.2585 - val_accuracy: 0.9141\n",
      "Epoch 9/10\n",
      "253/255 [============================>.] - ETA: 0s - loss: 0.1812 - accuracy: 0.9247\n",
      "Epoch 00009: val_loss did not improve from 0.25852\n",
      "255/255 [==============================] - 6s 25ms/step - loss: 0.1815 - accuracy: 0.9243 - val_loss: 0.3411 - val_accuracy: 0.9038\n",
      "Epoch 10/10\n",
      "254/255 [============================>.] - ETA: 0s - loss: 0.1856 - accuracy: 0.9299\n",
      "Epoch 00010: val_loss did not improve from 0.25852\n",
      "255/255 [==============================] - 6s 25ms/step - loss: 0.1854 - accuracy: 0.9299 - val_loss: 0.3458 - val_accuracy: 0.8917\n"
     ]
    },
    {
     "data": {
      "text/plain": [
       "<tensorflow.python.keras.callbacks.History at 0x1fd929a8c48>"
      ]
     },
     "execution_count": 408,
     "metadata": {},
     "output_type": "execute_result"
    }
   ],
   "source": [
    "# Compiling the model\n",
    "model_2.compile(loss='categorical_crossentropy',\n",
    "              optimizer='rmsprop',metrics=['accuracy'])\n",
    "# Training the model\n",
    "model_2.fit(X_train,Y_train,\n",
    "          batch_size=batch_size,\n",
    "          validation_data=(X_test, Y_test),\n",
    "          epochs=10,callbacks=[cp_callback])"
   ]
  },
  {
   "cell_type": "code",
   "execution_count": 410,
   "metadata": {},
   "outputs": [
    {
     "name": "stdout",
     "output_type": "stream",
     "text": [
      "Epoch 1/5\n",
      "253/255 [============================>.] - ETA: 0s - loss: 0.1765 - accuracy: 0.9293\n",
      "Epoch 00001: val_loss did not improve from 0.25852\n",
      "255/255 [==============================] - 6s 25ms/step - loss: 0.1758 - accuracy: 0.9297 - val_loss: 0.2925 - val_accuracy: 0.8712\n",
      "Epoch 2/5\n",
      "255/255 [==============================] - ETA: 0s - loss: 0.1727 - accuracy: 0.9326\n",
      "Epoch 00002: val_loss did not improve from 0.25852\n",
      "255/255 [==============================] - 6s 25ms/step - loss: 0.1727 - accuracy: 0.9326 - val_loss: 0.2873 - val_accuracy: 0.9038\n",
      "Epoch 3/5\n",
      "253/255 [============================>.] - ETA: 0s - loss: 0.1556 - accuracy: 0.9363\n",
      "Epoch 00003: val_loss did not improve from 0.25852\n",
      "255/255 [==============================] - 6s 24ms/step - loss: 0.1550 - accuracy: 0.9366 - val_loss: 0.3267 - val_accuracy: 0.8788\n",
      "Epoch 4/5\n",
      "253/255 [============================>.] - ETA: 0s - loss: 0.1533 - accuracy: 0.9370\n",
      "Epoch 00004: val_loss did not improve from 0.25852\n",
      "255/255 [==============================] - 6s 25ms/step - loss: 0.1537 - accuracy: 0.9366 - val_loss: 0.2873 - val_accuracy: 0.8769\n",
      "Epoch 5/5\n",
      "253/255 [============================>.] - ETA: 0s - loss: 0.1595 - accuracy: 0.9392\n",
      "Epoch 00005: val_loss did not improve from 0.25852\n",
      "255/255 [==============================] - 7s 26ms/step - loss: 0.1595 - accuracy: 0.9390 - val_loss: 0.2785 - val_accuracy: 0.9199\n"
     ]
    },
    {
     "data": {
      "text/plain": [
       "<tensorflow.python.keras.callbacks.History at 0x1fd9924d4c8>"
      ]
     },
     "execution_count": 410,
     "metadata": {},
     "output_type": "execute_result"
    }
   ],
   "source": [
    "# Compiling the model\n",
    "# Training the model\n",
    "model_2.fit(X_train,\n",
    "          Y_train,\n",
    "          batch_size=batch_size,\n",
    "          validation_data=(X_test, Y_test),\n",
    "          epochs=5,callbacks=[cp_callback])"
   ]
  },
  {
   "cell_type": "code",
   "execution_count": 412,
   "metadata": {},
   "outputs": [
    {
     "data": {
      "text/plain": [
       "0.9198718070983887"
      ]
     },
     "execution_count": 412,
     "metadata": {},
     "output_type": "execute_result"
    }
   ],
   "source": [
    "max(model_2.history.history['val_accuracy'])"
   ]
  },
  {
   "cell_type": "code",
   "execution_count": 413,
   "metadata": {},
   "outputs": [
    {
     "data": {
      "text/plain": [
       "<tensorflow.python.training.tracking.util.CheckpointLoadStatus at 0x1fd99274f08>"
      ]
     },
     "execution_count": 413,
     "metadata": {},
     "output_type": "execute_result"
    }
   ],
   "source": [
    "checkpoint_path = \"training_model2_stclass/cp.ckpt\"\n",
    "model_ckpt2 = model_2\n",
    "model_ckpt2.load_weights(checkpoint_path)"
   ]
  },
  {
   "cell_type": "code",
   "execution_count": 414,
   "metadata": {},
   "outputs": [],
   "source": [
    "model_ckpt2.save('model_2_3stat.h5')"
   ]
  },
  {
   "cell_type": "markdown",
   "metadata": {},
   "source": [
    "#converging Loss to 0.92 is the biggest and hectic tried various model with and without LSTM ,CNN models by changing no of LSTM units and corresponding drop outs and max_poolsize finally achieved this due to less data took lot of hyperparameter tuning\n",
    "#finally converged to loss of 0.2585 and saved for future use"
   ]
  },
  {
   "cell_type": "markdown",
   "metadata": {},
   "source": [
    "# classifying dynamic activities\n"
   ]
  },
  {
   "cell_type": "code",
   "execution_count": 448,
   "metadata": {},
   "outputs": [],
   "source": [
    "# Loading the train and test data\n",
    "filename = f'UCI_HAR_Dataset/test/y_test.txt'\n",
    "y = _read_csv(filename)[0]\n"
   ]
  },
  {
   "cell_type": "code",
   "execution_count": 449,
   "metadata": {},
   "outputs": [],
   "source": [
    "def load_dyna(subset):\n",
    "    \"\"\"\n",
    "    The objective that we are trying to predict is a integer, from 1 to 6,\n",
    "    that represents a human activity. We return a binary representation of \n",
    "    every sample objective as a 6 bits vector using One Hot Encoding\n",
    "    (https://pandas.pydata.org/pandas-docs/stable/generated/pandas.get_dummies.html)\n",
    "    \"\"\"\n",
    "    filename = f'UCI_HAR_Dataset/{subset}/y_{subset}.txt'\n",
    "    y = _read_csv(filename)[0]\n",
    "    y_ind=y<=3\n",
    "    Y=y[y_ind] #for selecting dynamic features we have taken y should be less or equal to 3\n",
    "\n",
    "    return np.array(pd.get_dummies(Y)),y_ind"
   ]
  },
  {
   "cell_type": "code",
   "execution_count": 450,
   "metadata": {},
   "outputs": [],
   "source": [
    "def load_data():\n",
    "    \"\"\"\n",
    "    Obtain the dataset from multiple files.\n",
    "    Returns: X_train, X_test, y_train, y_test\n",
    "    \"\"\"\n",
    "    X_train, X_test = load_signals('train'), load_signals('test')\n",
    "    y_train,xtr_dyn=load_dyna('train')\n",
    "    y_test,xte_dyn=load_dyna('test')\n",
    "    X_train_dy=X_train[xtr_dyn]\n",
    "    X_test_dy=X_test[xte_dyn]\n",
    "\n",
    "    return X_train_dy, X_test_dy, y_train, y_test"
   ]
  },
  {
   "cell_type": "code",
   "execution_count": 451,
   "metadata": {},
   "outputs": [],
   "source": [
    "X_train, X_test, Y_train, Y_test = load_data()"
   ]
  },
  {
   "cell_type": "code",
   "execution_count": 452,
   "metadata": {},
   "outputs": [
    {
     "name": "stdout",
     "output_type": "stream",
     "text": [
      "128\n",
      "9\n",
      "3285\n",
      "3\n"
     ]
    }
   ],
   "source": [
    "timesteps = len(X_train[0])\n",
    "input_dim = len(X_train[0][0])\n",
    "n_classes = _count_classes(Y_train)\n",
    "\n",
    "print(timesteps)\n",
    "print(input_dim)\n",
    "print(len(X_train))\n",
    "print(n_classes)"
   ]
  },
  {
   "cell_type": "code",
   "execution_count": 312,
   "metadata": {},
   "outputs": [
    {
     "name": "stdout",
     "output_type": "stream",
     "text": [
      "Model: \"sequential\"\n",
      "_________________________________________________________________\n",
      "Layer (type)                 Output Shape              Param #   \n",
      "=================================================================\n",
      "lstm (LSTM)                  (None, 128, 100)          44000     \n",
      "_________________________________________________________________\n",
      "dropout (Dropout)            (None, 128, 100)          0         \n",
      "_________________________________________________________________\n",
      "conv1d (Conv1D)              (None, 128, 64)           19264     \n",
      "_________________________________________________________________\n",
      "dropout_1 (Dropout)          (None, 128, 64)           0         \n",
      "_________________________________________________________________\n",
      "conv1d_1 (Conv1D)            (None, 128, 25)           4825      \n",
      "_________________________________________________________________\n",
      "dropout_2 (Dropout)          (None, 128, 25)           0         \n",
      "_________________________________________________________________\n",
      "max_pooling1d (MaxPooling1D) (None, 128, 25)           0         \n",
      "_________________________________________________________________\n",
      "flatten (Flatten)            (None, 3200)              0         \n",
      "_________________________________________________________________\n",
      "dense (Dense)                (None, 3)                 9603      \n",
      "=================================================================\n",
      "Total params: 77,692\n",
      "Trainable params: 77,692\n",
      "Non-trainable params: 0\n",
      "_________________________________________________________________\n"
     ]
    }
   ],
   "source": [
    "tf.keras.backend.clear_session()\n",
    "n_hidden1=100\n",
    "\n",
    "model3 = Sequential()\n",
    "model3.add(LSTM(n_hidden1,return_sequences=True, input_shape=(timesteps, input_dim)))\n",
    "model3.add(Dropout(0.65))\n",
    "model3.add(Conv1D(filters=64, kernel_size=3,padding='same', activation='relu',kernel_initializer='he_uniform'))\n",
    "model3.add(Dropout(0.375))\n",
    "model3.add(Conv1D(filters=25, kernel_size=3,padding='same', activation='relu',kernel_initializer='he_uniform'))\n",
    "model3.add(Dropout(0.275))\n",
    "model3.add(MaxPooling1D(pool_size=1,strides=1))\n",
    "model3.add(Flatten())\n",
    "\n",
    "#model3.add(Dense(25, activation='relu',kernel_initializer='he_uniform'))\n",
    "#model3.add(Dropout(0.275))\n",
    "\n",
    "#model3.add(Dense(32, activation='relu',kernel_initializer='he_uniform'))\n",
    "#model3.add(BatchNormalization()) \n",
    "#model3.add(Dropout(0.6))\n",
    "\n",
    "model3.add(Dense(3, activation='softmax'))\n",
    "\n",
    "model3.summary()"
   ]
  },
  {
   "cell_type": "code",
   "execution_count": 313,
   "metadata": {},
   "outputs": [],
   "source": [
    "import os\n",
    "checkpoint_path = \"training_model3_dyclass/cp.ckpt\"\n",
    "checkpoint_dir = os.path.dirname(checkpoint_path)\n",
    "\n",
    "# Create a callback that saves the model's weights\n",
    "cp_callback = tf.keras.callbacks.ModelCheckpoint(filepath=checkpoint_path,save_best_only=True,save_weights_only=True,verbose=1)\n",
    "\n",
    "#checkpoint_path = \"training_model3_dyclass/cp.ckpt\"\n",
    "#model_ckpt2 = model2\n",
    "#model_ckpt2.load_weights(checkpoint_path)"
   ]
  },
  {
   "cell_type": "code",
   "execution_count": 314,
   "metadata": {},
   "outputs": [
    {
     "name": "stdout",
     "output_type": "stream",
     "text": [
      "Epoch 1/10\n",
      "205/206 [============================>.] - ETA: 0s - loss: 0.6878 - accuracy: 0.6869\n",
      "Epoch 00001: val_loss improved from inf to 0.33466, saving model to training_model3_dyclass/cp.ckpt\n",
      "206/206 [==============================] - 5s 26ms/step - loss: 0.6867 - accuracy: 0.6874 - val_loss: 0.3347 - val_accuracy: 0.9120\n",
      "Epoch 2/10\n",
      "204/206 [============================>.] - ETA: 0s - loss: 0.1077 - accuracy: 0.9629\n",
      "Epoch 00002: val_loss improved from 0.33466 to 0.26773, saving model to training_model3_dyclass/cp.ckpt\n",
      "206/206 [==============================] - 5s 23ms/step - loss: 0.1085 - accuracy: 0.9626 - val_loss: 0.2677 - val_accuracy: 0.9308\n",
      "Epoch 3/10\n",
      "205/206 [============================>.] - ETA: 0s - loss: 0.0651 - accuracy: 0.9832\n",
      "Epoch 00003: val_loss improved from 0.26773 to 0.19522, saving model to training_model3_dyclass/cp.ckpt\n",
      "206/206 [==============================] - 5s 23ms/step - loss: 0.0650 - accuracy: 0.9833 - val_loss: 0.1952 - val_accuracy: 0.9661\n",
      "Epoch 4/10\n",
      "205/206 [============================>.] - ETA: 0s - loss: 0.0253 - accuracy: 0.9930\n",
      "Epoch 00004: val_loss did not improve from 0.19522\n",
      "206/206 [==============================] - 5s 23ms/step - loss: 0.0253 - accuracy: 0.9930 - val_loss: 0.2929 - val_accuracy: 0.9250\n",
      "Epoch 5/10\n",
      "205/206 [============================>.] - ETA: 0s - loss: 0.0269 - accuracy: 0.9951\n",
      "Epoch 00005: val_loss did not improve from 0.19522\n",
      "206/206 [==============================] - 5s 23ms/step - loss: 0.0269 - accuracy: 0.9951 - val_loss: 0.1998 - val_accuracy: 0.9697\n",
      "Epoch 6/10\n",
      "204/206 [============================>.] - ETA: 0s - loss: 0.0212 - accuracy: 0.9963\n",
      "Epoch 00006: val_loss did not improve from 0.19522\n",
      "206/206 [==============================] - 5s 23ms/step - loss: 0.0210 - accuracy: 0.9963 - val_loss: 0.3889 - val_accuracy: 0.9762\n",
      "Epoch 7/10\n",
      "205/206 [============================>.] - ETA: 0s - loss: 0.0265 - accuracy: 0.9945\n",
      "Epoch 00007: val_loss improved from 0.19522 to 0.15533, saving model to training_model3_dyclass/cp.ckpt\n",
      "206/206 [==============================] - 5s 23ms/step - loss: 0.0265 - accuracy: 0.9945 - val_loss: 0.1553 - val_accuracy: 0.9791\n",
      "Epoch 8/10\n",
      "204/206 [============================>.] - ETA: 0s - loss: 0.0127 - accuracy: 0.9985\n",
      "Epoch 00008: val_loss did not improve from 0.15533\n",
      "206/206 [==============================] - 5s 23ms/step - loss: 0.0126 - accuracy: 0.9985 - val_loss: 0.2047 - val_accuracy: 0.9726\n",
      "Epoch 9/10\n",
      "206/206 [==============================] - ETA: 0s - loss: 0.0220 - accuracy: 0.9967\n",
      "Epoch 00009: val_loss did not improve from 0.15533\n",
      "206/206 [==============================] - 5s 23ms/step - loss: 0.0220 - accuracy: 0.9967 - val_loss: 0.4918 - val_accuracy: 0.9120\n",
      "Epoch 10/10\n",
      "206/206 [==============================] - ETA: 0s - loss: 0.0226 - accuracy: 0.9973\n",
      "Epoch 00010: val_loss did not improve from 0.15533\n",
      "206/206 [==============================] - 5s 23ms/step - loss: 0.0226 - accuracy: 0.9973 - val_loss: 0.2331 - val_accuracy: 0.9589\n"
     ]
    },
    {
     "data": {
      "text/plain": [
       "<tensorflow.python.keras.callbacks.History at 0x1fd92b11808>"
      ]
     },
     "execution_count": 314,
     "metadata": {},
     "output_type": "execute_result"
    }
   ],
   "source": [
    "# Compiling the model\n",
    "model3.compile(loss='categorical_crossentropy',\n",
    "              optimizer='rmsprop',metrics=['accuracy'])\n",
    "# Training the model\n",
    "model3.fit(X_train,Y_train,\n",
    "          batch_size=batch_size,\n",
    "          validation_data=(X_test, Y_test),\n",
    "          epochs=10,callbacks=[cp_callback])"
   ]
  },
  {
   "cell_type": "code",
   "execution_count": 316,
   "metadata": {},
   "outputs": [
    {
     "name": "stdout",
     "output_type": "stream",
     "text": [
      "Epoch 1/5\n",
      "205/206 [============================>.] - ETA: 0s - loss: 0.0060 - accuracy: 0.9976\n",
      "Epoch 00001: val_loss improved from 0.15533 to 0.15506, saving model to training_model3_dyclass/cp.ckpt\n",
      "206/206 [==============================] - 5s 23ms/step - loss: 0.0060 - accuracy: 0.9976 - val_loss: 0.1551 - val_accuracy: 0.9762\n",
      "Epoch 2/5\n",
      "204/206 [============================>.] - ETA: 0s - loss: 0.0100 - accuracy: 0.9969\n",
      "Epoch 00002: val_loss did not improve from 0.15506\n",
      "206/206 [==============================] - 5s 23ms/step - loss: 0.0099 - accuracy: 0.9970 - val_loss: 0.2241 - val_accuracy: 0.9611\n",
      "Epoch 3/5\n",
      "205/206 [============================>.] - ETA: 0s - loss: 0.0054 - accuracy: 0.9991\n",
      "Epoch 00003: val_loss improved from 0.15506 to 0.10954, saving model to training_model3_dyclass/cp.ckpt\n",
      "206/206 [==============================] - 5s 23ms/step - loss: 0.0054 - accuracy: 0.9991 - val_loss: 0.1095 - val_accuracy: 0.9813\n",
      "Epoch 4/5\n",
      "205/206 [============================>.] - ETA: 0s - loss: 0.0245 - accuracy: 0.9966\n",
      "Epoch 00004: val_loss improved from 0.10954 to 0.02850, saving model to training_model3_dyclass/cp.ckpt\n",
      "206/206 [==============================] - 5s 23ms/step - loss: 0.0245 - accuracy: 0.9967 - val_loss: 0.0285 - val_accuracy: 0.9942\n",
      "Epoch 5/5\n",
      "204/206 [============================>.] - ETA: 0s - loss: 0.0040 - accuracy: 0.9994\n",
      "Epoch 00005: val_loss did not improve from 0.02850\n",
      "206/206 [==============================] - 5s 23ms/step - loss: 0.0040 - accuracy: 0.9994 - val_loss: 0.1748 - val_accuracy: 0.9769\n"
     ]
    },
    {
     "data": {
      "text/plain": [
       "<tensorflow.python.keras.callbacks.History at 0x1fcfb368648>"
      ]
     },
     "execution_count": 316,
     "metadata": {},
     "output_type": "execute_result"
    }
   ],
   "source": [
    "\n",
    "# Training the model\n",
    "model3.fit(X_train,Y_train,\n",
    "          batch_size=batch_size,\n",
    "          validation_data=(X_test, Y_test),\n",
    "          epochs=5,callbacks=[cp_callback])"
   ]
  },
  {
   "cell_type": "code",
   "execution_count": 317,
   "metadata": {},
   "outputs": [
    {
     "data": {
      "text/plain": [
       "0.994232177734375"
      ]
     },
     "execution_count": 317,
     "metadata": {},
     "output_type": "execute_result"
    }
   ],
   "source": [
    "max(model3.history.history['val_accuracy'])"
   ]
  },
  {
   "cell_type": "code",
   "execution_count": 318,
   "metadata": {},
   "outputs": [
    {
     "data": {
      "text/plain": [
       "<tensorflow.python.training.tracking.util.CheckpointLoadStatus at 0x1fd4b714988>"
      ]
     },
     "execution_count": 318,
     "metadata": {},
     "output_type": "execute_result"
    }
   ],
   "source": [
    "checkpoint_path = \"training_model3_dyclass/cp.ckpt\"\n",
    "model3 = model3\n",
    "model3.load_weights(checkpoint_path)"
   ]
  },
  {
   "cell_type": "code",
   "execution_count": 319,
   "metadata": {},
   "outputs": [],
   "source": [
    "model3.save('model_3_dyclass.h5')"
   ]
  },
  {
   "cell_type": "markdown",
   "metadata": {},
   "source": [
    "#this is not a big task as tried with the same model of model_2 by little change in drop outs  it worked well achieved  accuracy  of 99.4% with loss of 0.2850"
   ]
  },
  {
   "cell_type": "markdown",
   "metadata": {},
   "source": [
    "# final prediction by combinations of all the three models"
   ]
  },
  {
   "cell_type": "code",
   "execution_count": 467,
   "metadata": {},
   "outputs": [],
   "source": [
    "\n",
    "from keras.models import load_model\n",
    "import pickle\n",
    "model1= load_model('C:/Users/thrib/Documents/HAR/model_1_2class.h5')\n",
    "model2 = load_model(\"C:/Users/thrib/Documents/HAR/model_2_3stat.h5\")\n",
    "model3 = load_model(\"C:/Users/thrib/Documents/HAR/model_3_dyclass.h5\")\n",
    "model1.compile(loss='binary_crossentropy',\n",
    "              optimizer='adam',metrics=['accuracy'])\n",
    "model2.compile(loss='categorical_crossentropy',\n",
    "              optimizer='rmsprop',metrics=['accuracy'])\n",
    "model2.compile(loss='categorical_crossentropy',\n",
    "              optimizer='rmsprop',metrics=['accuracy'])\n",
    "#saved and combined all three models"
   ]
  },
  {
   "cell_type": "code",
   "execution_count": 468,
   "metadata": {},
   "outputs": [],
   "source": [
    "predict_2class = model1.predict(X_test)\n",
    "pred_2class =  np.argmax(predict_2class, axis=1)\n",
    "\n",
    "X_static = X_test[pred_2class==0]#static \n",
    "X_dynamic = X_test[pred_2class==1]#dynamic"
   ]
  },
  {
   "cell_type": "code",
   "execution_count": 469,
   "metadata": {},
   "outputs": [
    {
     "data": {
      "text/plain": [
       "array([0, 0, 0, ..., 1, 1, 1], dtype=int64)"
      ]
     },
     "execution_count": 469,
     "metadata": {},
     "output_type": "execute_result"
    }
   ],
   "source": [
    "pred_2class"
   ]
  },
  {
   "cell_type": "code",
   "execution_count": 470,
   "metadata": {},
   "outputs": [
    {
     "data": {
      "text/plain": [
       "(1389, 128, 9)"
      ]
     },
     "execution_count": 470,
     "metadata": {},
     "output_type": "execute_result"
    }
   ],
   "source": [
    "X_dynamic.shape"
   ]
  },
  {
   "cell_type": "code",
   "execution_count": 471,
   "metadata": {},
   "outputs": [
    {
     "data": {
      "text/plain": [
       "(1558, 128, 9)"
      ]
     },
     "execution_count": 471,
     "metadata": {},
     "output_type": "execute_result"
    }
   ],
   "source": [
    "X_static.shape"
   ]
  },
  {
   "cell_type": "code",
   "execution_count": 472,
   "metadata": {},
   "outputs": [
    {
     "data": {
      "text/plain": [
       "2947"
      ]
     },
     "execution_count": 472,
     "metadata": {},
     "output_type": "execute_result"
    }
   ],
   "source": [
    "1558+1389"
   ]
  },
  {
   "cell_type": "markdown",
   "metadata": {},
   "source": [
    "# predicting stat values and using argmax to convert the probalities into int values"
   ]
  },
  {
   "cell_type": "code",
   "execution_count": 473,
   "metadata": {},
   "outputs": [],
   "source": [
    "predict_stat = model2.predict(X_static)\n",
    "pred_3stclass =  np.argmax(predict_stat, axis=1)\n",
    "\n",
    "#stat 4,5,6"
   ]
  },
  {
   "cell_type": "code",
   "execution_count": 474,
   "metadata": {},
   "outputs": [
    {
     "data": {
      "text/plain": [
       "array([[8.2831606e-03, 9.9171680e-01, 4.7971463e-13],\n",
       "       [1.9125558e-02, 9.8087448e-01, 1.1112041e-09],\n",
       "       [2.5607893e-02, 9.7439212e-01, 1.8017881e-08],\n",
       "       ...,\n",
       "       [9.6315933e-12, 9.7943799e-19, 1.0000000e+00],\n",
       "       [5.8087567e-12, 6.0154342e-19, 1.0000000e+00],\n",
       "       [5.9103573e-12, 4.2505405e-19, 1.0000000e+00]], dtype=float32)"
      ]
     },
     "execution_count": 474,
     "metadata": {},
     "output_type": "execute_result"
    }
   ],
   "source": [
    "predict_stat # these are the prob foe each class"
   ]
  },
  {
   "cell_type": "code",
   "execution_count": 475,
   "metadata": {},
   "outputs": [
    {
     "data": {
      "text/plain": [
       "array([4, 5, 6], dtype=int64)"
      ]
     },
     "execution_count": 475,
     "metadata": {},
     "output_type": "execute_result"
    }
   ],
   "source": [
    "stclass=pred_3stclass+4\n",
    "np.unique(stclass)\n",
    "# as they will be 0,1,2 we are adding 4 to to get corresponding values t get 4,5,6"
   ]
  },
  {
   "cell_type": "markdown",
   "metadata": {},
   "source": [
    "# predicing dyna values similarly"
   ]
  },
  {
   "cell_type": "code",
   "execution_count": 476,
   "metadata": {},
   "outputs": [],
   "source": [
    "predict_dyna = model3.predict(X_dynamic)\n",
    "pred_3dyclass =  np.argmax(predict_dyna, axis=1)\n",
    "# 1,2,3"
   ]
  },
  {
   "cell_type": "code",
   "execution_count": 477,
   "metadata": {},
   "outputs": [
    {
     "data": {
      "text/plain": [
       "array([1, 2, 3], dtype=int64)"
      ]
     },
     "execution_count": 477,
     "metadata": {},
     "output_type": "execute_result"
    }
   ],
   "source": [
    "dyclass=pred_3dyclass+1\n",
    "np.unique(dyclass)\n",
    "# as they will be 0,1,2 we are adding 1 to to get corresponding values 1,2,3"
   ]
  },
  {
   "cell_type": "code",
   "execution_count": 478,
   "metadata": {},
   "outputs": [],
   "source": [
    "#finally appending in a sequence of the data of original test values\n",
    "i,j=0,0\n",
    "final_pred = []\n",
    "for val in pred_2class:\n",
    "    if val == 1:\n",
    "        final_pred.append(dyclass[i])\n",
    "        i = i + 1\n",
    "    else:\n",
    "        final_pred.append(stclass[j])\n",
    "        j = j + 1 \n"
   ]
  },
  {
   "cell_type": "code",
   "execution_count": 479,
   "metadata": {},
   "outputs": [],
   "source": [
    "filename = f'UCI_HAR_Dataset/test/y_test.txt'\n",
    "y_test = _read_csv(filename)[0]"
   ]
  },
  {
   "cell_type": "code",
   "execution_count": 480,
   "metadata": {},
   "outputs": [
    {
     "name": "stdout",
     "output_type": "stream",
     "text": [
      "Accuracy of test data 0.9514760773668137\n"
     ]
    }
   ],
   "source": [
    "\n",
    "##accuracy of test\n",
    "from sklearn.metrics import accuracy_score\n",
    "print('Accuracy of test data',accuracy_score(y_test,final_pred))"
   ]
  },
  {
   "cell_type": "code",
   "execution_count": 483,
   "metadata": {},
   "outputs": [
    {
     "name": "stdout",
     "output_type": "stream",
     "text": [
      "--------------------\n",
      "| Confusion Matrix |\n",
      "--------------------\n",
      "\n",
      " [[491   5   0   0   0   0]\n",
      " [  1 468   2   0   0   0]\n",
      " [  0   0 420   0   0   0]\n",
      " [  0   0   0 414  76   1]\n",
      " [  1   1   0  56 474   0]\n",
      " [  0   0   0   0   0 537]]\n"
     ]
    }
   ],
   "source": [
    "from sklearn.metrics import confusion_matrix\n",
    "cm = confusion_matrix(y_test, final_pred,labels=range(1,7))\n",
    "print('--------------------')\n",
    "print('| Confusion Matrix |')\n",
    "print('--------------------')\n",
    "print('\\n {}'.format(cm))"
   ]
  },
  {
   "cell_type": "code",
   "execution_count": null,
   "metadata": {},
   "outputs": [],
   "source": [
    "stat_ACTIVITIES = {1:'WALKING',2:'WALKING_UPSTAIRS',3:'WALKING_DOWNSTAIRS'}\n",
    "DYNA_ACTIVITIES = {4: 'SITTING',5: 'STANDING',6: 'LAYING'}"
   ]
  },
  {
   "cell_type": "code",
   "execution_count": 486,
   "metadata": {},
   "outputs": [
    {
     "data": {
      "image/png": "[encoded data removed]",
      "text/plain": [
       "<Figure size 576x576 with 2 Axes>"
      ]
     },
     "metadata": {
      "needs_background": "light"
     },
     "output_type": "display_data"
    }
   ],
   "source": [
    "plt.figure(figsize=(8,8))\n",
    "plt.grid(b=False)\n",
    "plot_confusion_matrix(cm, classes=range(1,7), normalize=True, title='Normalized confusion matrix')\n",
    "plt.show()\n",
    "    "
   ]
  },
  {
   "cell_type": "code",
   "execution_count": 514,
   "metadata": {},
   "outputs": [],
   "source": [
    "from prettytable import PrettyTable\n",
    "x = PrettyTable()"
   ]
  },
  {
   "cell_type": "code",
   "execution_count": 515,
   "metadata": {},
   "outputs": [
    {
     "name": "stdout",
     "output_type": "stream",
     "text": [
      "+------------------------------+----------+\n",
      "|            models            | Test_auc |\n",
      "+------------------------------+----------+\n",
      "|      model_single_LSTM       | 0.92235  |\n",
      "|    model_multi_layer_Lstm    |  0.9288  |\n",
      "| model_dividmconquer_Lstm_cnn | 0.95147  |\n",
      "+------------------------------+----------+\n"
     ]
    }
   ],
   "source": [
    "x.field_names = [\"models\", \"Test_auc\"]\n",
    "x.add_row([\"model_single_LSTM\", 0.92235])\n",
    "x.add_row([\"model_multi_layer_Lstm\", 0.9288])\n",
    "x.add_row([\"model_dividmconquer_Lstm_cnn\", 0.95147])\n",
    "print(x)"
   ]
  },
  {
   "cell_type": "code",
   "execution_count": null,
   "metadata": {},
   "outputs": [],
   "source": []
  }
 ],
 "metadata": {
  "kernelspec": {
   "display_name": "Python 3",
   "language": "python",
   "name": "python3"
  },
  "language_info": {
   "codemirror_mode": {
    "name": "ipython",
    "version": 3
   },
   "file_extension": ".py",
   "mimetype": "text/x-python",
   "name": "python",
   "nbconvert_exporter": "python",
   "pygments_lexer": "ipython3",
   "version": "3.7.6"
  }
 },
 "nbformat": 4,
 "nbformat_minor": 2
}
